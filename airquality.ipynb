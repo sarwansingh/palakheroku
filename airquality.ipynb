{
  "nbformat": 4,
  "nbformat_minor": 0,
  "metadata": {
    "colab": {
      "name": "Air Quality Prediction System Palak.ipynb",
      "provenance": [],
      "collapsed_sections": [],
      "toc_visible": true
    },
    "kernelspec": {
      "name": "python3",
      "display_name": "Python 3"
    }
  },
  "cells": [
    {
      "cell_type": "markdown",
      "metadata": {
        "id": "Rtnq_GT6gf5E"
      },
      "source": [
        "# Air Quality Prediction System"
      ]
    },
    {
      "cell_type": "markdown",
      "metadata": {
        "id": "vn18Q2gRpYHY"
      },
      "source": [
        "Steps involved:-\r\n",
        "\r\n",
        "Step 1 : fetch data\r\n",
        "\r\n",
        "Step 2 : clean/prepare\r\n",
        "\r\n",
        "Step 3 : feature matrix\r\n",
        "\r\n",
        "step 4 : divide data into train and test datasets\r\n",
        "\r\n",
        "Step 5 : apply machine learning model\r\n"
      ]
    },
    {
      "cell_type": "markdown",
      "metadata": {
        "id": "NPIH_mJ0qftn"
      },
      "source": [
        "#### Fetching the data"
      ]
    },
    {
      "cell_type": "code",
      "metadata": {
        "colab": {
          "base_uri": "https://localhost:8080/"
        },
        "id": "yTPXWy7Ygn5c",
        "outputId": "5bca294b-8ec7-407b-cff7-3eaf544a598b"
      },
      "source": [
        "#importing library packages and reading the csv file \r\n",
        "import pandas as pd\r\n",
        "import numpy as np\r\n",
        "import seaborn as sns\r\n",
        "import matplotlib.pyplot as plt\r\n",
        "dfurl = \"https://raw.githubusercontent.com/Palak-171/air_quality_data/main/dataset.csv\"\r\n",
        "df = pd.read_csv(dfurl)"
      ],
      "execution_count": null,
      "outputs": [
        {
          "output_type": "stream",
          "text": [
            "/usr/local/lib/python3.6/dist-packages/IPython/core/interactiveshell.py:2718: DtypeWarning: Columns (0) have mixed types.Specify dtype option on import or set low_memory=False.\n",
            "  interactivity=interactivity, compiler=compiler, result=result)\n"
          ],
          "name": "stderr"
        }
      ]
    },
    {
      "cell_type": "code",
      "metadata": {
        "colab": {
          "base_uri": "https://localhost:8080/"
        },
        "id": "zC5EpNxZlHdE",
        "outputId": "f93fffbf-172c-48e8-dd57-0217828720f5"
      },
      "source": [
        "#checking dimensions of data\r\n",
        "df.shape"
      ],
      "execution_count": null,
      "outputs": [
        {
          "output_type": "execute_result",
          "data": {
            "text/plain": [
              "(435742, 13)"
            ]
          },
          "metadata": {
            "tags": []
          },
          "execution_count": 219
        }
      ]
    },
    {
      "cell_type": "code",
      "metadata": {
        "colab": {
          "base_uri": "https://localhost:8080/",
          "height": 620
        },
        "id": "EYx50Xd1mISj",
        "outputId": "b11846a5-cbe5-4079-9fca-e25571ebca53"
      },
      "source": [
        "#basic information of data \r\n",
        "\r\n",
        "df.info()\r\n",
        "\r\n",
        "df.describe()"
      ],
      "execution_count": null,
      "outputs": [
        {
          "output_type": "stream",
          "text": [
            "<class 'pandas.core.frame.DataFrame'>\n",
            "RangeIndex: 435742 entries, 0 to 435741\n",
            "Data columns (total 13 columns):\n",
            " #   Column                       Non-Null Count   Dtype  \n",
            "---  ------                       --------------   -----  \n",
            " 0   stn_code                     291665 non-null  object \n",
            " 1   sampling_date                435739 non-null  object \n",
            " 2   state                        435742 non-null  object \n",
            " 3   location                     435739 non-null  object \n",
            " 4   agency                       286261 non-null  object \n",
            " 5   type                         430349 non-null  object \n",
            " 6   so2                          401096 non-null  float64\n",
            " 7   no2                          419509 non-null  float64\n",
            " 8   rspm                         395520 non-null  float64\n",
            " 9   spm                          198355 non-null  float64\n",
            " 10  location_monitoring_station  408251 non-null  object \n",
            " 11  pm2_5                        9314 non-null    float64\n",
            " 12  date                         435735 non-null  object \n",
            "dtypes: float64(5), object(8)\n",
            "memory usage: 43.2+ MB\n"
          ],
          "name": "stdout"
        },
        {
          "output_type": "execute_result",
          "data": {
            "text/html": [
              "<div>\n",
              "<style scoped>\n",
              "    .dataframe tbody tr th:only-of-type {\n",
              "        vertical-align: middle;\n",
              "    }\n",
              "\n",
              "    .dataframe tbody tr th {\n",
              "        vertical-align: top;\n",
              "    }\n",
              "\n",
              "    .dataframe thead th {\n",
              "        text-align: right;\n",
              "    }\n",
              "</style>\n",
              "<table border=\"1\" class=\"dataframe\">\n",
              "  <thead>\n",
              "    <tr style=\"text-align: right;\">\n",
              "      <th></th>\n",
              "      <th>so2</th>\n",
              "      <th>no2</th>\n",
              "      <th>rspm</th>\n",
              "      <th>spm</th>\n",
              "      <th>pm2_5</th>\n",
              "    </tr>\n",
              "  </thead>\n",
              "  <tbody>\n",
              "    <tr>\n",
              "      <th>count</th>\n",
              "      <td>401096.000000</td>\n",
              "      <td>419509.000000</td>\n",
              "      <td>395520.000000</td>\n",
              "      <td>198355.000000</td>\n",
              "      <td>9314.000000</td>\n",
              "    </tr>\n",
              "    <tr>\n",
              "      <th>mean</th>\n",
              "      <td>10.829414</td>\n",
              "      <td>25.809623</td>\n",
              "      <td>108.832784</td>\n",
              "      <td>220.783480</td>\n",
              "      <td>40.791467</td>\n",
              "    </tr>\n",
              "    <tr>\n",
              "      <th>std</th>\n",
              "      <td>11.177187</td>\n",
              "      <td>18.503086</td>\n",
              "      <td>74.872430</td>\n",
              "      <td>151.395457</td>\n",
              "      <td>30.832525</td>\n",
              "    </tr>\n",
              "    <tr>\n",
              "      <th>min</th>\n",
              "      <td>0.000000</td>\n",
              "      <td>0.000000</td>\n",
              "      <td>0.000000</td>\n",
              "      <td>0.000000</td>\n",
              "      <td>3.000000</td>\n",
              "    </tr>\n",
              "    <tr>\n",
              "      <th>25%</th>\n",
              "      <td>5.000000</td>\n",
              "      <td>14.000000</td>\n",
              "      <td>56.000000</td>\n",
              "      <td>111.000000</td>\n",
              "      <td>24.000000</td>\n",
              "    </tr>\n",
              "    <tr>\n",
              "      <th>50%</th>\n",
              "      <td>8.000000</td>\n",
              "      <td>22.000000</td>\n",
              "      <td>90.000000</td>\n",
              "      <td>187.000000</td>\n",
              "      <td>32.000000</td>\n",
              "    </tr>\n",
              "    <tr>\n",
              "      <th>75%</th>\n",
              "      <td>13.700000</td>\n",
              "      <td>32.200000</td>\n",
              "      <td>142.000000</td>\n",
              "      <td>296.000000</td>\n",
              "      <td>46.000000</td>\n",
              "    </tr>\n",
              "    <tr>\n",
              "      <th>max</th>\n",
              "      <td>909.000000</td>\n",
              "      <td>876.000000</td>\n",
              "      <td>6307.033333</td>\n",
              "      <td>3380.000000</td>\n",
              "      <td>504.000000</td>\n",
              "    </tr>\n",
              "  </tbody>\n",
              "</table>\n",
              "</div>"
            ],
            "text/plain": [
              "                 so2            no2           rspm            spm        pm2_5\n",
              "count  401096.000000  419509.000000  395520.000000  198355.000000  9314.000000\n",
              "mean       10.829414      25.809623     108.832784     220.783480    40.791467\n",
              "std        11.177187      18.503086      74.872430     151.395457    30.832525\n",
              "min         0.000000       0.000000       0.000000       0.000000     3.000000\n",
              "25%         5.000000      14.000000      56.000000     111.000000    24.000000\n",
              "50%         8.000000      22.000000      90.000000     187.000000    32.000000\n",
              "75%        13.700000      32.200000     142.000000     296.000000    46.000000\n",
              "max       909.000000     876.000000    6307.033333    3380.000000   504.000000"
            ]
          },
          "metadata": {
            "tags": []
          },
          "execution_count": 221
        }
      ]
    },
    {
      "cell_type": "code",
      "metadata": {
        "colab": {
          "base_uri": "https://localhost:8080/",
          "height": 195
        },
        "id": "YiPyEr8mlfH6",
        "outputId": "a74be48e-3483-4f77-e0d5-1953db723184"
      },
      "source": [
        "#printing first 5 rows\r\n",
        "df.head()\r\n"
      ],
      "execution_count": null,
      "outputs": [
        {
          "output_type": "execute_result",
          "data": {
            "text/html": [
              "<div>\n",
              "<style scoped>\n",
              "    .dataframe tbody tr th:only-of-type {\n",
              "        vertical-align: middle;\n",
              "    }\n",
              "\n",
              "    .dataframe tbody tr th {\n",
              "        vertical-align: top;\n",
              "    }\n",
              "\n",
              "    .dataframe thead th {\n",
              "        text-align: right;\n",
              "    }\n",
              "</style>\n",
              "<table border=\"1\" class=\"dataframe\">\n",
              "  <thead>\n",
              "    <tr style=\"text-align: right;\">\n",
              "      <th></th>\n",
              "      <th>stn_code</th>\n",
              "      <th>sampling_date</th>\n",
              "      <th>state</th>\n",
              "      <th>location</th>\n",
              "      <th>agency</th>\n",
              "      <th>type</th>\n",
              "      <th>so2</th>\n",
              "      <th>no2</th>\n",
              "      <th>rspm</th>\n",
              "      <th>spm</th>\n",
              "      <th>location_monitoring_station</th>\n",
              "      <th>pm2_5</th>\n",
              "      <th>date</th>\n",
              "    </tr>\n",
              "  </thead>\n",
              "  <tbody>\n",
              "    <tr>\n",
              "      <th>0</th>\n",
              "      <td>150</td>\n",
              "      <td>February - M021990</td>\n",
              "      <td>Andhra Pradesh</td>\n",
              "      <td>Hyderabad</td>\n",
              "      <td>NaN</td>\n",
              "      <td>Residential, Rural and other Areas</td>\n",
              "      <td>4.8</td>\n",
              "      <td>17.4</td>\n",
              "      <td>NaN</td>\n",
              "      <td>NaN</td>\n",
              "      <td>NaN</td>\n",
              "      <td>NaN</td>\n",
              "      <td>2/1/1990</td>\n",
              "    </tr>\n",
              "    <tr>\n",
              "      <th>1</th>\n",
              "      <td>151</td>\n",
              "      <td>February - M021990</td>\n",
              "      <td>Andhra Pradesh</td>\n",
              "      <td>Hyderabad</td>\n",
              "      <td>NaN</td>\n",
              "      <td>Industrial Area</td>\n",
              "      <td>3.1</td>\n",
              "      <td>7.0</td>\n",
              "      <td>NaN</td>\n",
              "      <td>NaN</td>\n",
              "      <td>NaN</td>\n",
              "      <td>NaN</td>\n",
              "      <td>2/1/1990</td>\n",
              "    </tr>\n",
              "    <tr>\n",
              "      <th>2</th>\n",
              "      <td>152</td>\n",
              "      <td>February - M021990</td>\n",
              "      <td>Andhra Pradesh</td>\n",
              "      <td>Hyderabad</td>\n",
              "      <td>NaN</td>\n",
              "      <td>Residential, Rural and other Areas</td>\n",
              "      <td>6.2</td>\n",
              "      <td>28.5</td>\n",
              "      <td>NaN</td>\n",
              "      <td>NaN</td>\n",
              "      <td>NaN</td>\n",
              "      <td>NaN</td>\n",
              "      <td>2/1/1990</td>\n",
              "    </tr>\n",
              "    <tr>\n",
              "      <th>3</th>\n",
              "      <td>150</td>\n",
              "      <td>March - M031990</td>\n",
              "      <td>Andhra Pradesh</td>\n",
              "      <td>Hyderabad</td>\n",
              "      <td>NaN</td>\n",
              "      <td>Residential, Rural and other Areas</td>\n",
              "      <td>6.3</td>\n",
              "      <td>14.7</td>\n",
              "      <td>NaN</td>\n",
              "      <td>NaN</td>\n",
              "      <td>NaN</td>\n",
              "      <td>NaN</td>\n",
              "      <td>3/1/1990</td>\n",
              "    </tr>\n",
              "    <tr>\n",
              "      <th>4</th>\n",
              "      <td>151</td>\n",
              "      <td>March - M031990</td>\n",
              "      <td>Andhra Pradesh</td>\n",
              "      <td>Hyderabad</td>\n",
              "      <td>NaN</td>\n",
              "      <td>Industrial Area</td>\n",
              "      <td>4.7</td>\n",
              "      <td>7.5</td>\n",
              "      <td>NaN</td>\n",
              "      <td>NaN</td>\n",
              "      <td>NaN</td>\n",
              "      <td>NaN</td>\n",
              "      <td>3/1/1990</td>\n",
              "    </tr>\n",
              "  </tbody>\n",
              "</table>\n",
              "</div>"
            ],
            "text/plain": [
              "  stn_code       sampling_date  ... pm2_5      date\n",
              "0      150  February - M021990  ...   NaN  2/1/1990\n",
              "1      151  February - M021990  ...   NaN  2/1/1990\n",
              "2      152  February - M021990  ...   NaN  2/1/1990\n",
              "3      150     March - M031990  ...   NaN  3/1/1990\n",
              "4      151     March - M031990  ...   NaN  3/1/1990\n",
              "\n",
              "[5 rows x 13 columns]"
            ]
          },
          "metadata": {
            "tags": []
          },
          "execution_count": 222
        }
      ]
    },
    {
      "cell_type": "code",
      "metadata": {
        "colab": {
          "base_uri": "https://localhost:8080/",
          "height": 478
        },
        "id": "i34T4GQZlnQq",
        "outputId": "dd2ba143-ee7d-4f3b-82a0-d02804ddd141"
      },
      "source": [
        "#printing last 10 rows\r\n",
        "df.tail(10)"
      ],
      "execution_count": null,
      "outputs": [
        {
          "output_type": "execute_result",
          "data": {
            "text/html": [
              "<div>\n",
              "<style scoped>\n",
              "    .dataframe tbody tr th:only-of-type {\n",
              "        vertical-align: middle;\n",
              "    }\n",
              "\n",
              "    .dataframe tbody tr th {\n",
              "        vertical-align: top;\n",
              "    }\n",
              "\n",
              "    .dataframe thead th {\n",
              "        text-align: right;\n",
              "    }\n",
              "</style>\n",
              "<table border=\"1\" class=\"dataframe\">\n",
              "  <thead>\n",
              "    <tr style=\"text-align: right;\">\n",
              "      <th></th>\n",
              "      <th>stn_code</th>\n",
              "      <th>sampling_date</th>\n",
              "      <th>state</th>\n",
              "      <th>location</th>\n",
              "      <th>agency</th>\n",
              "      <th>type</th>\n",
              "      <th>so2</th>\n",
              "      <th>no2</th>\n",
              "      <th>rspm</th>\n",
              "      <th>spm</th>\n",
              "      <th>location_monitoring_station</th>\n",
              "      <th>pm2_5</th>\n",
              "      <th>date</th>\n",
              "    </tr>\n",
              "  </thead>\n",
              "  <tbody>\n",
              "    <tr>\n",
              "      <th>435732</th>\n",
              "      <td>SAMP</td>\n",
              "      <td>9/12/2015</td>\n",
              "      <td>West Bengal</td>\n",
              "      <td>ULUBERIA</td>\n",
              "      <td>West Bengal State Pollution Control Board</td>\n",
              "      <td>RIRUO</td>\n",
              "      <td>22.0</td>\n",
              "      <td>50.0</td>\n",
              "      <td>145.0</td>\n",
              "      <td>NaN</td>\n",
              "      <td>Inside Rampal Industries,ULUBERIA</td>\n",
              "      <td>NaN</td>\n",
              "      <td>12/9/2015</td>\n",
              "    </tr>\n",
              "    <tr>\n",
              "      <th>435733</th>\n",
              "      <td>SAMP</td>\n",
              "      <td>12/12/2015</td>\n",
              "      <td>West Bengal</td>\n",
              "      <td>ULUBERIA</td>\n",
              "      <td>West Bengal State Pollution Control Board</td>\n",
              "      <td>RIRUO</td>\n",
              "      <td>34.0</td>\n",
              "      <td>61.0</td>\n",
              "      <td>161.0</td>\n",
              "      <td>NaN</td>\n",
              "      <td>Inside Rampal Industries,ULUBERIA</td>\n",
              "      <td>NaN</td>\n",
              "      <td>12/12/2015</td>\n",
              "    </tr>\n",
              "    <tr>\n",
              "      <th>435734</th>\n",
              "      <td>SAMP</td>\n",
              "      <td>15-12-15</td>\n",
              "      <td>West Bengal</td>\n",
              "      <td>ULUBERIA</td>\n",
              "      <td>West Bengal State Pollution Control Board</td>\n",
              "      <td>RIRUO</td>\n",
              "      <td>20.0</td>\n",
              "      <td>44.0</td>\n",
              "      <td>148.0</td>\n",
              "      <td>NaN</td>\n",
              "      <td>Inside Rampal Industries,ULUBERIA</td>\n",
              "      <td>NaN</td>\n",
              "      <td>12/15/2015</td>\n",
              "    </tr>\n",
              "    <tr>\n",
              "      <th>435735</th>\n",
              "      <td>SAMP</td>\n",
              "      <td>18-12-15</td>\n",
              "      <td>West Bengal</td>\n",
              "      <td>ULUBERIA</td>\n",
              "      <td>West Bengal State Pollution Control Board</td>\n",
              "      <td>RIRUO</td>\n",
              "      <td>17.0</td>\n",
              "      <td>44.0</td>\n",
              "      <td>131.0</td>\n",
              "      <td>NaN</td>\n",
              "      <td>Inside Rampal Industries,ULUBERIA</td>\n",
              "      <td>NaN</td>\n",
              "      <td>12/18/2015</td>\n",
              "    </tr>\n",
              "    <tr>\n",
              "      <th>435736</th>\n",
              "      <td>SAMP</td>\n",
              "      <td>21-12-15</td>\n",
              "      <td>West Bengal</td>\n",
              "      <td>ULUBERIA</td>\n",
              "      <td>West Bengal State Pollution Control Board</td>\n",
              "      <td>RIRUO</td>\n",
              "      <td>18.0</td>\n",
              "      <td>45.0</td>\n",
              "      <td>140.0</td>\n",
              "      <td>NaN</td>\n",
              "      <td>Inside Rampal Industries,ULUBERIA</td>\n",
              "      <td>NaN</td>\n",
              "      <td>12/21/2015</td>\n",
              "    </tr>\n",
              "    <tr>\n",
              "      <th>435737</th>\n",
              "      <td>SAMP</td>\n",
              "      <td>24-12-15</td>\n",
              "      <td>West Bengal</td>\n",
              "      <td>ULUBERIA</td>\n",
              "      <td>West Bengal State Pollution Control Board</td>\n",
              "      <td>RIRUO</td>\n",
              "      <td>22.0</td>\n",
              "      <td>50.0</td>\n",
              "      <td>143.0</td>\n",
              "      <td>NaN</td>\n",
              "      <td>Inside Rampal Industries,ULUBERIA</td>\n",
              "      <td>NaN</td>\n",
              "      <td>12/24/2015</td>\n",
              "    </tr>\n",
              "    <tr>\n",
              "      <th>435738</th>\n",
              "      <td>SAMP</td>\n",
              "      <td>29-12-15</td>\n",
              "      <td>West Bengal</td>\n",
              "      <td>ULUBERIA</td>\n",
              "      <td>West Bengal State Pollution Control Board</td>\n",
              "      <td>RIRUO</td>\n",
              "      <td>20.0</td>\n",
              "      <td>46.0</td>\n",
              "      <td>171.0</td>\n",
              "      <td>NaN</td>\n",
              "      <td>Inside Rampal Industries,ULUBERIA</td>\n",
              "      <td>NaN</td>\n",
              "      <td>12/29/2015</td>\n",
              "    </tr>\n",
              "    <tr>\n",
              "      <th>435739</th>\n",
              "      <td>NaN</td>\n",
              "      <td>NaN</td>\n",
              "      <td>andaman-and-nicobar-islands</td>\n",
              "      <td>NaN</td>\n",
              "      <td>NaN</td>\n",
              "      <td>NaN</td>\n",
              "      <td>NaN</td>\n",
              "      <td>NaN</td>\n",
              "      <td>NaN</td>\n",
              "      <td>NaN</td>\n",
              "      <td>NaN</td>\n",
              "      <td>NaN</td>\n",
              "      <td>NaN</td>\n",
              "    </tr>\n",
              "    <tr>\n",
              "      <th>435740</th>\n",
              "      <td>NaN</td>\n",
              "      <td>NaN</td>\n",
              "      <td>Lakshadweep</td>\n",
              "      <td>NaN</td>\n",
              "      <td>NaN</td>\n",
              "      <td>NaN</td>\n",
              "      <td>NaN</td>\n",
              "      <td>NaN</td>\n",
              "      <td>NaN</td>\n",
              "      <td>NaN</td>\n",
              "      <td>NaN</td>\n",
              "      <td>NaN</td>\n",
              "      <td>NaN</td>\n",
              "    </tr>\n",
              "    <tr>\n",
              "      <th>435741</th>\n",
              "      <td>NaN</td>\n",
              "      <td>NaN</td>\n",
              "      <td>Tripura</td>\n",
              "      <td>NaN</td>\n",
              "      <td>NaN</td>\n",
              "      <td>NaN</td>\n",
              "      <td>NaN</td>\n",
              "      <td>NaN</td>\n",
              "      <td>NaN</td>\n",
              "      <td>NaN</td>\n",
              "      <td>NaN</td>\n",
              "      <td>NaN</td>\n",
              "      <td>NaN</td>\n",
              "    </tr>\n",
              "  </tbody>\n",
              "</table>\n",
              "</div>"
            ],
            "text/plain": [
              "       stn_code sampling_date  ... pm2_5        date\n",
              "435732     SAMP     9/12/2015  ...   NaN   12/9/2015\n",
              "435733     SAMP    12/12/2015  ...   NaN  12/12/2015\n",
              "435734     SAMP      15-12-15  ...   NaN  12/15/2015\n",
              "435735     SAMP      18-12-15  ...   NaN  12/18/2015\n",
              "435736     SAMP      21-12-15  ...   NaN  12/21/2015\n",
              "435737     SAMP      24-12-15  ...   NaN  12/24/2015\n",
              "435738     SAMP      29-12-15  ...   NaN  12/29/2015\n",
              "435739      NaN           NaN  ...   NaN         NaN\n",
              "435740      NaN           NaN  ...   NaN         NaN\n",
              "435741      NaN           NaN  ...   NaN         NaN\n",
              "\n",
              "[10 rows x 13 columns]"
            ]
          },
          "metadata": {
            "tags": []
          },
          "execution_count": 223
        }
      ]
    },
    {
      "cell_type": "code",
      "metadata": {
        "colab": {
          "base_uri": "https://localhost:8080/"
        },
        "id": "30w1F26f3HeZ",
        "outputId": "dea9e0b0-2ecd-4699-ea3b-3ddb4b2bf3d3"
      },
      "source": [
        "#How many states/union territories data is being represented in this data set?\r\n",
        "df['state'].nunique()"
      ],
      "execution_count": null,
      "outputs": [
        {
          "output_type": "execute_result",
          "data": {
            "text/plain": [
              "37"
            ]
          },
          "metadata": {
            "tags": []
          },
          "execution_count": 224
        }
      ]
    },
    {
      "cell_type": "code",
      "metadata": {
        "colab": {
          "base_uri": "https://localhost:8080/"
        },
        "id": "MeGDXz4lA5yH",
        "outputId": "991ab487-ef82-4eef-8937-f3e1cc193f9e"
      },
      "source": [
        "df['state'].unique()"
      ],
      "execution_count": null,
      "outputs": [
        {
          "output_type": "execute_result",
          "data": {
            "text/plain": [
              "array(['Andhra Pradesh', 'Arunachal Pradesh', 'Assam', 'Bihar',\n",
              "       'Chandigarh', 'Chhattisgarh', 'Dadra & Nagar Haveli',\n",
              "       'Daman & Diu', 'Delhi', 'Goa', 'Gujarat', 'Haryana',\n",
              "       'Himachal Pradesh', 'Jammu & Kashmir', 'Jharkhand', 'Karnataka',\n",
              "       'Kerala', 'Madhya Pradesh', 'Maharashtra', 'Manipur', 'Meghalaya',\n",
              "       'Mizoram', 'Nagaland', 'Odisha', 'Puducherry', 'Punjab',\n",
              "       'Rajasthan', 'Sikkim', 'Tamil Nadu', 'Telangana', 'Uttar Pradesh',\n",
              "       'Uttarakhand', 'Uttaranchal', 'West Bengal',\n",
              "       'andaman-and-nicobar-islands', 'Lakshadweep', 'Tripura'],\n",
              "      dtype=object)"
            ]
          },
          "metadata": {
            "tags": []
          },
          "execution_count": 225
        }
      ]
    },
    {
      "cell_type": "code",
      "metadata": {
        "colab": {
          "base_uri": "https://localhost:8080/"
        },
        "id": "Pe3tdnnQ_VA3",
        "outputId": "c2bd68f9-c74b-4ecf-8114-9e12ca7e26af"
      },
      "source": [
        "# number of locations in data\r\n",
        "df['location'].nunique()\r\n"
      ],
      "execution_count": null,
      "outputs": [
        {
          "output_type": "execute_result",
          "data": {
            "text/plain": [
              "304"
            ]
          },
          "metadata": {
            "tags": []
          },
          "execution_count": 226
        }
      ]
    },
    {
      "cell_type": "code",
      "metadata": {
        "colab": {
          "base_uri": "https://localhost:8080/"
        },
        "id": "qraHU7O6AqFJ",
        "outputId": "bd80e8e0-2d61-4d2a-f380-5001d8582554"
      },
      "source": [
        "df['location'].unique()"
      ],
      "execution_count": null,
      "outputs": [
        {
          "output_type": "execute_result",
          "data": {
            "text/plain": [
              "array(['Hyderabad', 'Vishakhapatnam', 'Visakhapatnam', 'Tirupati',\n",
              "       'Vijayawada', 'Patancheru', 'Ramagundam', 'Kurnool', 'Guntur',\n",
              "       'Nalgonda', 'Nellore', 'Warangal', 'Chittoor', 'Khammam',\n",
              "       'Kakinada', 'Ananthapur', 'Eluru', 'Kadapa', 'Karimnagar',\n",
              "       'Nizamabad', 'Ongole', 'Rajahmundry', 'Sangareddy', 'Srikakulam',\n",
              "       'Vizianagaram', 'Itanagar', 'Naharlagun', 'Guwahati', 'Bongaigaon',\n",
              "       'Dibrugarh', 'Golaghat', 'Hailakandi', 'Sibsagar', 'Tezpur',\n",
              "       'Silchar', 'Daranga', 'Lakhimpur', 'Nagaon', 'Nalbari',\n",
              "       'Sivasagar', 'Silcher', 'Tinsukia', 'Margherita', 'Sindri',\n",
              "       'Jharia', 'Dhanbad', 'Jamshedpur', 'Patna', 'Chandigarh', 'Korba',\n",
              "       'Bhilai Nagar', 'Raipur', 'Bhilai', 'Bilaspur', 'Daman',\n",
              "       'Silvassa', 'Khadoli', 'Daman Diu & Nagar', 'Delhi', 'Ponda',\n",
              "       'Vasco', 'Panjim', 'Panaji', 'Mormugao', 'Amona', 'Assanora',\n",
              "       'Bicholim', 'Codli', 'Curchorem', 'Honda', 'Usgao', 'Kundaim',\n",
              "       'Mapusa', 'Margao', 'Sanguem', 'Tilamol', 'Cuncolim', 'Baroda',\n",
              "       'Surat', 'Ahmedabad', 'Vapi', 'Ankleshwar', 'Rajkot', 'Bharuch',\n",
              "       'Jamnagar', 'Vadodara', 'Anklesvar', 'ANKLESHWAR', 'VAPI', 'Bhuj',\n",
              "       'MORBI', 'SANAND', 'Sarigam', 'Faridabad', 'Yamuna Nagar',\n",
              "       'Dharuhera', 'Hisar', 'Yamunanagar', 'Shimla', 'Paonta Sahib',\n",
              "       'Parwanoo', 'Damtal', 'Baddi', 'Nahan', 'Nalagarh', 'Kala Amb',\n",
              "       'Manali', 'Sunder Nagar', 'Una', 'Dharamshala', 'Jammu', 'Ranchi',\n",
              "       'West Singhbhum', 'Saraikela Kharsawan', 'Mysore', 'Bangalore',\n",
              "       'Belgaum', 'Gulbarga', 'Hassan', 'Hubli-Dharwad', 'Mangalore',\n",
              "       'Davangere', 'Dharwad', 'Hubli', 'Bidar', 'Domlur', 'Chitradurga',\n",
              "       'Ranebennur', 'Kolar', 'Mandya', 'Raichur', 'Shimoga', 'Tumkur',\n",
              "       'Bijapur', 'Cochin', 'Kotttayam', 'Kottayam', 'Kozhikode',\n",
              "       'Trivendrum', 'Palakkad', 'Kochi', 'Trivandrum', 'Alappuzha',\n",
              "       'Kollam', 'Malappuram', 'Thiruvananthapuram', 'Pathanamthitta',\n",
              "       'Thissur', 'Wayanad', 'Nagda', 'Satna', 'Indore', 'Bhopal',\n",
              "       'Jabalpur', 'Gwalior', 'Ujjain', 'Dewas', 'Khajuraho', 'Sagar',\n",
              "       'Singrauli', 'Chhindwara', 'Amlai', 'Pithampur', 'Pune', 'Bombay',\n",
              "       'Nagpur', 'Chandarpur', 'Aurangabad', 'Chandrapur', 'Nashik',\n",
              "       'Dombivli', 'Solapur', 'Thane', 'Mumbai', 'Aurangabad (MS)',\n",
              "       'Greater Mumbai', 'Kolhapur', 'Amravati', 'Lote', 'Navi Mumbai',\n",
              "       'Tarapur', 'Mahad', 'Badlapur', 'Jalgaon', 'Latur', 'Roha',\n",
              "       'Sangli', 'Ulhasnagar', 'Akola', 'Jalna', 'Nanded', 'Imphal',\n",
              "       'Shillong', 'Byrnihat', 'Dawki', 'Tura', 'Khliehriat', 'Nongstoin',\n",
              "       'Umsning', 'Aizawl', 'Champhai', 'Kolasib', 'Lunglei', 'Dimapur',\n",
              "       'Kohima', 'Angul', 'Talcher', 'Rourkela', 'Nalco', 'Rayagada',\n",
              "       'Bhubaneswar', 'Bhubaneshwar', 'Cuttack', 'Sambalpur', 'Berhampur',\n",
              "       'Balasore', 'Kalinga Nagar', 'Paradeep', 'Keonjhar', 'Konark',\n",
              "       'Puri', 'Pondichery', 'Pondicherry', 'Karaikal', 'Ludhiana',\n",
              "       'Jalandhar', 'Patiala', 'Gobindgarh', 'Naya Nangal', 'Amritsar',\n",
              "       'Bathinda', 'Dera Bassi', 'Khanna', 'Dera Baba', 'Sangrur',\n",
              "       'Faridkot', 'Hoshiarpur', 'Kota', 'Jaipur', 'Alwar', 'Jodhpur',\n",
              "       'Chittorgarh', 'Udaipur', 'Gangtok', 'Madras', 'Turicorin',\n",
              "       'Tuticorin', 'Coimbatore', 'Madurai', 'Salem', 'Chennai',\n",
              "       'Thoothukudi', 'Trichy', 'Mettur', 'Cuddalore', 'Kothur', 'Agra',\n",
              "       'Anpara', 'Dehradoon', 'Lucknow', 'Kanpur', 'Gajroula', 'Varanasi',\n",
              "       'Noida, Ghaziabad', 'Ghaziabad', 'Noida', 'Renusagar', 'Gajraula',\n",
              "       'Firozabad', 'Jhansi', 'Khurja', 'Allahabad', 'Meerut', 'Bareilly',\n",
              "       'Gorakhpur', 'Mathura', 'Moradabad', 'Rai Bareilly', 'Saharanpur',\n",
              "       'Unnao', 'Dehradun', 'Haldwani', 'Haridwar', 'Kashipur',\n",
              "       'Rishikesh', 'Rudrapur', 'Haldia', 'Howrah', 'Calcutta',\n",
              "       'Durgapur', 'Asansol', 'Kolkata', 'Durgapur (WB)', 'Baruipur',\n",
              "       'Barrackpore', 'Raniganj', 'Sankrail', 'South Suburban', 'DANKUNI',\n",
              "       'HALDIA', 'Kalyani', 'MALDAH', 'SILIGURI', 'ULUBERIA', nan],\n",
              "      dtype=object)"
            ]
          },
          "metadata": {
            "tags": []
          },
          "execution_count": 227
        }
      ]
    },
    {
      "cell_type": "markdown",
      "metadata": {
        "id": "ZI8sBOMbqX1z"
      },
      "source": [
        "#### Visualization of states with highest pollutants"
      ]
    },
    {
      "cell_type": "code",
      "metadata": {
        "colab": {
          "base_uri": "https://localhost:8080/",
          "height": 379
        },
        "id": "Q9fWngWtperk",
        "outputId": "7e3403fd-4686-43ec-f982-8c2e8c4ab7df"
      },
      "source": [
        "#so2\r\n",
        "df[['so2','state']].groupby([\"state\"]).mean().sort_values(by='so2').head(20).plot.bar(color='b')\r\n",
        "plt.show()"
      ],
      "execution_count": null,
      "outputs": [
        {
          "output_type": "display_data",
          "data": {
            "image/png": "[encoded data removed]",
            "text/plain": [
              "<Figure size 432x288 with 1 Axes>"
            ]
          },
          "metadata": {
            "tags": [],
            "needs_background": "light"
          }
        }
      ]
    },
    {
      "cell_type": "code",
      "metadata": {
        "colab": {
          "base_uri": "https://localhost:8080/",
          "height": 418
        },
        "id": "r5aVn_kxqqVw",
        "outputId": "03c97335-df62-456b-e0d9-b6e2b95e3e89"
      },
      "source": [
        "#no2\r\n",
        "df[['no2','state']].groupby([\"state\"]).mean().sort_values(by='no2').plot.bar(color='g')\r\n",
        "plt.show()"
      ],
      "execution_count": null,
      "outputs": [
        {
          "output_type": "display_data",
          "data": {
            "image/png": "[encoded data removed]",
            "text/plain": [
              "<Figure size 432x288 with 1 Axes>"
            ]
          },
          "metadata": {
            "tags": [],
            "needs_background": "light"
          }
        }
      ]
    },
    {
      "cell_type": "code",
      "metadata": {
        "colab": {
          "base_uri": "https://localhost:8080/",
          "height": 418
        },
        "id": "gkoyTbnLq0PT",
        "outputId": "7b948a09-e21c-43c2-b21d-27cda6dbd08c"
      },
      "source": [
        "#spm\r\n",
        "df[['spm','state']].groupby([\"state\"]).mean().sort_values(by='spm').plot.bar(color='b')\r\n",
        "plt.show()"
      ],
      "execution_count": null,
      "outputs": [
        {
          "output_type": "display_data",
          "data": {
            "image/png": "[encoded data removed]",
            "text/plain": [
              "<Figure size 432x288 with 1 Axes>"
            ]
          },
          "metadata": {
            "tags": [],
            "needs_background": "light"
          }
        }
      ]
    },
    {
      "cell_type": "code",
      "metadata": {
        "colab": {
          "base_uri": "https://localhost:8080/",
          "height": 418
        },
        "id": "bSXhVOtoq40K",
        "outputId": "91022724-b7db-4f26-970e-eb528fea425a"
      },
      "source": [
        "#rspm\r\n",
        "df[['rspm','state']].groupby([\"state\"]).mean().sort_values(by='rspm').plot.bar(color='r')\r\n",
        "plt.show()"
      ],
      "execution_count": null,
      "outputs": [
        {
          "output_type": "display_data",
          "data": {
            "image/png": "[encoded data removed]",
            "text/plain": [
              "<Figure size 432x288 with 1 Axes>"
            ]
          },
          "metadata": {
            "tags": [],
            "needs_background": "light"
          }
        }
      ]
    },
    {
      "cell_type": "markdown",
      "metadata": {
        "id": "fXlL9miArWFh"
      },
      "source": [
        "#### Cleaning and preparing the data"
      ]
    },
    {
      "cell_type": "code",
      "metadata": {
        "colab": {
          "base_uri": "https://localhost:8080/"
        },
        "id": "BhDC-riJmVOa",
        "outputId": "01115cc1-617b-4e0c-d502-8a47a975b83c"
      },
      "source": [
        "#printing the sum of null values for each columns\r\n",
        "df.isnull().sum()"
      ],
      "execution_count": null,
      "outputs": [
        {
          "output_type": "execute_result",
          "data": {
            "text/plain": [
              "stn_code                       144077\n",
              "sampling_date                       3\n",
              "state                               0\n",
              "location                            3\n",
              "agency                         149481\n",
              "type                             5393\n",
              "so2                             34646\n",
              "no2                             16233\n",
              "rspm                            40222\n",
              "spm                            237387\n",
              "location_monitoring_station     27491\n",
              "pm2_5                          426428\n",
              "date                                7\n",
              "dtype: int64"
            ]
          },
          "metadata": {
            "tags": []
          },
          "execution_count": 232
        }
      ]
    },
    {
      "cell_type": "code",
      "metadata": {
        "id": "iEOOHux5rrty"
      },
      "source": [
        "#dropping unnecessary columns\r\n",
        "df =df.drop(columns=['stn_code','agency','sampling_date','location_monitoring_station','pm2_5','type'])"
      ],
      "execution_count": null,
      "outputs": []
    },
    {
      "cell_type": "code",
      "metadata": {
        "colab": {
          "base_uri": "https://localhost:8080/",
          "height": 195
        },
        "id": "1QsqIfh33S7j",
        "outputId": "2be2bce0-26be-4e13-db9f-1b3638599747"
      },
      "source": [
        "df.head()"
      ],
      "execution_count": null,
      "outputs": [
        {
          "output_type": "execute_result",
          "data": {
            "text/html": [
              "<div>\n",
              "<style scoped>\n",
              "    .dataframe tbody tr th:only-of-type {\n",
              "        vertical-align: middle;\n",
              "    }\n",
              "\n",
              "    .dataframe tbody tr th {\n",
              "        vertical-align: top;\n",
              "    }\n",
              "\n",
              "    .dataframe thead th {\n",
              "        text-align: right;\n",
              "    }\n",
              "</style>\n",
              "<table border=\"1\" class=\"dataframe\">\n",
              "  <thead>\n",
              "    <tr style=\"text-align: right;\">\n",
              "      <th></th>\n",
              "      <th>state</th>\n",
              "      <th>location</th>\n",
              "      <th>so2</th>\n",
              "      <th>no2</th>\n",
              "      <th>rspm</th>\n",
              "      <th>spm</th>\n",
              "      <th>date</th>\n",
              "    </tr>\n",
              "  </thead>\n",
              "  <tbody>\n",
              "    <tr>\n",
              "      <th>0</th>\n",
              "      <td>Andhra Pradesh</td>\n",
              "      <td>Hyderabad</td>\n",
              "      <td>4.8</td>\n",
              "      <td>17.4</td>\n",
              "      <td>NaN</td>\n",
              "      <td>NaN</td>\n",
              "      <td>2/1/1990</td>\n",
              "    </tr>\n",
              "    <tr>\n",
              "      <th>1</th>\n",
              "      <td>Andhra Pradesh</td>\n",
              "      <td>Hyderabad</td>\n",
              "      <td>3.1</td>\n",
              "      <td>7.0</td>\n",
              "      <td>NaN</td>\n",
              "      <td>NaN</td>\n",
              "      <td>2/1/1990</td>\n",
              "    </tr>\n",
              "    <tr>\n",
              "      <th>2</th>\n",
              "      <td>Andhra Pradesh</td>\n",
              "      <td>Hyderabad</td>\n",
              "      <td>6.2</td>\n",
              "      <td>28.5</td>\n",
              "      <td>NaN</td>\n",
              "      <td>NaN</td>\n",
              "      <td>2/1/1990</td>\n",
              "    </tr>\n",
              "    <tr>\n",
              "      <th>3</th>\n",
              "      <td>Andhra Pradesh</td>\n",
              "      <td>Hyderabad</td>\n",
              "      <td>6.3</td>\n",
              "      <td>14.7</td>\n",
              "      <td>NaN</td>\n",
              "      <td>NaN</td>\n",
              "      <td>3/1/1990</td>\n",
              "    </tr>\n",
              "    <tr>\n",
              "      <th>4</th>\n",
              "      <td>Andhra Pradesh</td>\n",
              "      <td>Hyderabad</td>\n",
              "      <td>4.7</td>\n",
              "      <td>7.5</td>\n",
              "      <td>NaN</td>\n",
              "      <td>NaN</td>\n",
              "      <td>3/1/1990</td>\n",
              "    </tr>\n",
              "  </tbody>\n",
              "</table>\n",
              "</div>"
            ],
            "text/plain": [
              "            state   location  so2   no2  rspm  spm      date\n",
              "0  Andhra Pradesh  Hyderabad  4.8  17.4   NaN  NaN  2/1/1990\n",
              "1  Andhra Pradesh  Hyderabad  3.1   7.0   NaN  NaN  2/1/1990\n",
              "2  Andhra Pradesh  Hyderabad  6.2  28.5   NaN  NaN  2/1/1990\n",
              "3  Andhra Pradesh  Hyderabad  6.3  14.7   NaN  NaN  3/1/1990\n",
              "4  Andhra Pradesh  Hyderabad  4.7   7.5   NaN  NaN  3/1/1990"
            ]
          },
          "metadata": {
            "tags": []
          },
          "execution_count": 234
        }
      ]
    },
    {
      "cell_type": "code",
      "metadata": {
        "id": "qgKAZWBptCNh"
      },
      "source": [
        "#CALCULATE TOTAL MISSING VALUES AND THEIR PERCENTAGE\r\n",
        "totalnull = df.isnull().sum().sort_values(ascending=False)"
      ],
      "execution_count": null,
      "outputs": []
    },
    {
      "cell_type": "code",
      "metadata": {
        "colab": {
          "base_uri": "https://localhost:8080/"
        },
        "id": "bo3E041JtMGp",
        "outputId": "9b154aef-2195-4cbf-eeb0-50c8a88234e8"
      },
      "source": [
        "totalnull.head(10)"
      ],
      "execution_count": null,
      "outputs": [
        {
          "output_type": "execute_result",
          "data": {
            "text/plain": [
              "spm         237387\n",
              "rspm         40222\n",
              "so2          34646\n",
              "no2          16233\n",
              "date             7\n",
              "location         3\n",
              "state            0\n",
              "dtype: int64"
            ]
          },
          "metadata": {
            "tags": []
          },
          "execution_count": 236
        }
      ]
    },
    {
      "cell_type": "code",
      "metadata": {
        "id": "rZwISSNOtXOy"
      },
      "source": [
        "\r\n",
        "percent = (df.isnull().sum()/df.isnull().count()*100).sort_values(ascending=False)  #count(returns Non-NAN value)"
      ],
      "execution_count": null,
      "outputs": []
    },
    {
      "cell_type": "code",
      "metadata": {
        "id": "kJ4v0L6Iu0AK"
      },
      "source": [
        "missing_data = pd.concat([totalnull, percent], axis=1, keys=['Total', 'Percent'])\r\n"
      ],
      "execution_count": null,
      "outputs": []
    },
    {
      "cell_type": "code",
      "metadata": {
        "colab": {
          "base_uri": "https://localhost:8080/",
          "height": 195
        },
        "id": "gGPIW2nVu-rS",
        "outputId": "7a1bf94e-2ddd-49dc-f127-b2dc99739957"
      },
      "source": [
        "missing_data.head()"
      ],
      "execution_count": null,
      "outputs": [
        {
          "output_type": "execute_result",
          "data": {
            "text/html": [
              "<div>\n",
              "<style scoped>\n",
              "    .dataframe tbody tr th:only-of-type {\n",
              "        vertical-align: middle;\n",
              "    }\n",
              "\n",
              "    .dataframe tbody tr th {\n",
              "        vertical-align: top;\n",
              "    }\n",
              "\n",
              "    .dataframe thead th {\n",
              "        text-align: right;\n",
              "    }\n",
              "</style>\n",
              "<table border=\"1\" class=\"dataframe\">\n",
              "  <thead>\n",
              "    <tr style=\"text-align: right;\">\n",
              "      <th></th>\n",
              "      <th>Total</th>\n",
              "      <th>Percent</th>\n",
              "    </tr>\n",
              "  </thead>\n",
              "  <tbody>\n",
              "    <tr>\n",
              "      <th>spm</th>\n",
              "      <td>237387</td>\n",
              "      <td>54.478797</td>\n",
              "    </tr>\n",
              "    <tr>\n",
              "      <th>rspm</th>\n",
              "      <td>40222</td>\n",
              "      <td>9.230692</td>\n",
              "    </tr>\n",
              "    <tr>\n",
              "      <th>so2</th>\n",
              "      <td>34646</td>\n",
              "      <td>7.951035</td>\n",
              "    </tr>\n",
              "    <tr>\n",
              "      <th>no2</th>\n",
              "      <td>16233</td>\n",
              "      <td>3.725370</td>\n",
              "    </tr>\n",
              "    <tr>\n",
              "      <th>date</th>\n",
              "      <td>7</td>\n",
              "      <td>0.001606</td>\n",
              "    </tr>\n",
              "  </tbody>\n",
              "</table>\n",
              "</div>"
            ],
            "text/plain": [
              "       Total    Percent\n",
              "spm   237387  54.478797\n",
              "rspm   40222   9.230692\n",
              "so2    34646   7.951035\n",
              "no2    16233   3.725370\n",
              "date       7   0.001606"
            ]
          },
          "metadata": {
            "tags": []
          },
          "execution_count": 239
        }
      ]
    },
    {
      "cell_type": "code",
      "metadata": {
        "colab": {
          "base_uri": "https://localhost:8080/",
          "height": 326
        },
        "id": "3wnbArXYvF8J",
        "outputId": "78153ccd-e590-4e72-9870-b372c0ded0cd"
      },
      "source": [
        "#missing values bar plot\r\n",
        "sns.barplot(x=missing_data.index, y=missing_data['Percent'])\r\n",
        "plt.xlabel('Features', fontsize=20)\r\n",
        "plt.ylabel('Percent of missing values', fontsize=20)\r\n",
        "plt.title('Percent missing data by feature', fontsize=20)"
      ],
      "execution_count": null,
      "outputs": [
        {
          "output_type": "execute_result",
          "data": {
            "text/plain": [
              "Text(0.5, 1.0, 'Percent missing data by feature')"
            ]
          },
          "metadata": {
            "tags": []
          },
          "execution_count": 240
        },
        {
          "output_type": "display_data",
          "data": {
            "image/png": "[encoded data removed]",
            "text/plain": [
              "<Figure size 432x288 with 1 Axes>"
            ]
          },
          "metadata": {
            "tags": [],
            "needs_background": "light"
          }
        }
      ]
    },
    {
      "cell_type": "code",
      "metadata": {
        "colab": {
          "base_uri": "https://localhost:8080/",
          "height": 1000
        },
        "id": "jcmtq68tvyRR",
        "outputId": "c6260043-1d35-4db6-f887-8809fb478c65"
      },
      "source": [
        "#mean distribution by states\r\n",
        "df.groupby('state')[['spm','rspm','so2','no2']].mean()"
      ],
      "execution_count": null,
      "outputs": [
        {
          "output_type": "execute_result",
          "data": {
            "text/html": [
              "<div>\n",
              "<style scoped>\n",
              "    .dataframe tbody tr th:only-of-type {\n",
              "        vertical-align: middle;\n",
              "    }\n",
              "\n",
              "    .dataframe tbody tr th {\n",
              "        vertical-align: top;\n",
              "    }\n",
              "\n",
              "    .dataframe thead th {\n",
              "        text-align: right;\n",
              "    }\n",
              "</style>\n",
              "<table border=\"1\" class=\"dataframe\">\n",
              "  <thead>\n",
              "    <tr style=\"text-align: right;\">\n",
              "      <th></th>\n",
              "      <th>spm</th>\n",
              "      <th>rspm</th>\n",
              "      <th>so2</th>\n",
              "      <th>no2</th>\n",
              "    </tr>\n",
              "    <tr>\n",
              "      <th>state</th>\n",
              "      <th></th>\n",
              "      <th></th>\n",
              "      <th></th>\n",
              "      <th></th>\n",
              "    </tr>\n",
              "  </thead>\n",
              "  <tbody>\n",
              "    <tr>\n",
              "      <th>Andhra Pradesh</th>\n",
              "      <td>200.260378</td>\n",
              "      <td>78.182824</td>\n",
              "      <td>7.284845</td>\n",
              "      <td>21.704451</td>\n",
              "    </tr>\n",
              "    <tr>\n",
              "      <th>Arunachal Pradesh</th>\n",
              "      <td>NaN</td>\n",
              "      <td>76.629213</td>\n",
              "      <td>3.179104</td>\n",
              "      <td>5.469697</td>\n",
              "    </tr>\n",
              "    <tr>\n",
              "      <th>Assam</th>\n",
              "      <td>153.355386</td>\n",
              "      <td>93.724912</td>\n",
              "      <td>6.723263</td>\n",
              "      <td>14.793691</td>\n",
              "    </tr>\n",
              "    <tr>\n",
              "      <th>Bihar</th>\n",
              "      <td>276.917416</td>\n",
              "      <td>123.705176</td>\n",
              "      <td>19.381476</td>\n",
              "      <td>36.575525</td>\n",
              "    </tr>\n",
              "    <tr>\n",
              "      <th>Chandigarh</th>\n",
              "      <td>206.056150</td>\n",
              "      <td>96.587079</td>\n",
              "      <td>2.676986</td>\n",
              "      <td>18.619404</td>\n",
              "    </tr>\n",
              "    <tr>\n",
              "      <th>Chhattisgarh</th>\n",
              "      <td>231.290969</td>\n",
              "      <td>126.472399</td>\n",
              "      <td>12.846609</td>\n",
              "      <td>24.815961</td>\n",
              "    </tr>\n",
              "    <tr>\n",
              "      <th>Dadra &amp; Nagar Haveli</th>\n",
              "      <td>170.545024</td>\n",
              "      <td>76.536530</td>\n",
              "      <td>8.939587</td>\n",
              "      <td>18.293959</td>\n",
              "    </tr>\n",
              "    <tr>\n",
              "      <th>Daman &amp; Diu</th>\n",
              "      <td>145.681416</td>\n",
              "      <td>73.749431</td>\n",
              "      <td>8.192958</td>\n",
              "      <td>16.168926</td>\n",
              "    </tr>\n",
              "    <tr>\n",
              "      <th>Delhi</th>\n",
              "      <td>399.402088</td>\n",
              "      <td>196.639771</td>\n",
              "      <td>8.737273</td>\n",
              "      <td>53.489147</td>\n",
              "    </tr>\n",
              "    <tr>\n",
              "      <th>Goa</th>\n",
              "      <td>67.254193</td>\n",
              "      <td>61.212766</td>\n",
              "      <td>6.827913</td>\n",
              "      <td>12.506337</td>\n",
              "    </tr>\n",
              "    <tr>\n",
              "      <th>Gujarat</th>\n",
              "      <td>191.567930</td>\n",
              "      <td>98.244510</td>\n",
              "      <td>16.656343</td>\n",
              "      <td>24.065631</td>\n",
              "    </tr>\n",
              "    <tr>\n",
              "      <th>Haryana</th>\n",
              "      <td>268.264804</td>\n",
              "      <td>149.860537</td>\n",
              "      <td>14.064957</td>\n",
              "      <td>23.428311</td>\n",
              "    </tr>\n",
              "    <tr>\n",
              "      <th>Himachal Pradesh</th>\n",
              "      <td>208.575630</td>\n",
              "      <td>91.870202</td>\n",
              "      <td>2.667013</td>\n",
              "      <td>13.658688</td>\n",
              "    </tr>\n",
              "    <tr>\n",
              "      <th>Jammu &amp; Kashmir</th>\n",
              "      <td>196.221053</td>\n",
              "      <td>117.449483</td>\n",
              "      <td>7.180521</td>\n",
              "      <td>12.213181</td>\n",
              "    </tr>\n",
              "    <tr>\n",
              "      <th>Jharkhand</th>\n",
              "      <td>277.940746</td>\n",
              "      <td>168.517763</td>\n",
              "      <td>23.485794</td>\n",
              "      <td>43.366341</td>\n",
              "    </tr>\n",
              "    <tr>\n",
              "      <th>Karnataka</th>\n",
              "      <td>168.001743</td>\n",
              "      <td>79.371801</td>\n",
              "      <td>10.223099</td>\n",
              "      <td>22.702837</td>\n",
              "    </tr>\n",
              "    <tr>\n",
              "      <th>Kerala</th>\n",
              "      <td>84.419791</td>\n",
              "      <td>50.636064</td>\n",
              "      <td>5.322350</td>\n",
              "      <td>14.421889</td>\n",
              "    </tr>\n",
              "    <tr>\n",
              "      <th>Lakshadweep</th>\n",
              "      <td>NaN</td>\n",
              "      <td>NaN</td>\n",
              "      <td>NaN</td>\n",
              "      <td>NaN</td>\n",
              "    </tr>\n",
              "    <tr>\n",
              "      <th>Madhya Pradesh</th>\n",
              "      <td>210.067545</td>\n",
              "      <td>114.717967</td>\n",
              "      <td>11.587410</td>\n",
              "      <td>18.639596</td>\n",
              "    </tr>\n",
              "    <tr>\n",
              "      <th>Maharashtra</th>\n",
              "      <td>205.255823</td>\n",
              "      <td>101.479608</td>\n",
              "      <td>17.366863</td>\n",
              "      <td>32.115370</td>\n",
              "    </tr>\n",
              "    <tr>\n",
              "      <th>Manipur</th>\n",
              "      <td>158.657895</td>\n",
              "      <td>69.815789</td>\n",
              "      <td>3.900000</td>\n",
              "      <td>20.173684</td>\n",
              "    </tr>\n",
              "    <tr>\n",
              "      <th>Meghalaya</th>\n",
              "      <td>78.002445</td>\n",
              "      <td>68.988442</td>\n",
              "      <td>8.955908</td>\n",
              "      <td>10.659706</td>\n",
              "    </tr>\n",
              "    <tr>\n",
              "      <th>Mizoram</th>\n",
              "      <td>87.833333</td>\n",
              "      <td>42.716466</td>\n",
              "      <td>2.085009</td>\n",
              "      <td>6.682171</td>\n",
              "    </tr>\n",
              "    <tr>\n",
              "      <th>Nagaland</th>\n",
              "      <td>133.311449</td>\n",
              "      <td>83.357027</td>\n",
              "      <td>2.059736</td>\n",
              "      <td>8.947265</td>\n",
              "    </tr>\n",
              "    <tr>\n",
              "      <th>Odisha</th>\n",
              "      <td>167.609844</td>\n",
              "      <td>83.619824</td>\n",
              "      <td>5.275874</td>\n",
              "      <td>16.899568</td>\n",
              "    </tr>\n",
              "    <tr>\n",
              "      <th>Puducherry</th>\n",
              "      <td>95.598188</td>\n",
              "      <td>43.418217</td>\n",
              "      <td>11.970639</td>\n",
              "      <td>15.279496</td>\n",
              "    </tr>\n",
              "    <tr>\n",
              "      <th>Punjab</th>\n",
              "      <td>244.918926</td>\n",
              "      <td>173.493711</td>\n",
              "      <td>10.628598</td>\n",
              "      <td>28.085846</td>\n",
              "    </tr>\n",
              "    <tr>\n",
              "      <th>Rajasthan</th>\n",
              "      <td>300.735397</td>\n",
              "      <td>142.016832</td>\n",
              "      <td>7.665725</td>\n",
              "      <td>30.441008</td>\n",
              "    </tr>\n",
              "    <tr>\n",
              "      <th>Sikkim</th>\n",
              "      <td>75.000000</td>\n",
              "      <td>32.000000</td>\n",
              "      <td>19.800000</td>\n",
              "      <td>26.800000</td>\n",
              "    </tr>\n",
              "    <tr>\n",
              "      <th>Tamil Nadu</th>\n",
              "      <td>126.729064</td>\n",
              "      <td>66.585638</td>\n",
              "      <td>11.315134</td>\n",
              "      <td>21.601202</td>\n",
              "    </tr>\n",
              "    <tr>\n",
              "      <th>Telangana</th>\n",
              "      <td>NaN</td>\n",
              "      <td>85.043008</td>\n",
              "      <td>5.418609</td>\n",
              "      <td>23.864005</td>\n",
              "    </tr>\n",
              "    <tr>\n",
              "      <th>Tripura</th>\n",
              "      <td>NaN</td>\n",
              "      <td>NaN</td>\n",
              "      <td>NaN</td>\n",
              "      <td>NaN</td>\n",
              "    </tr>\n",
              "    <tr>\n",
              "      <th>Uttar Pradesh</th>\n",
              "      <td>372.663688</td>\n",
              "      <td>176.952308</td>\n",
              "      <td>12.528500</td>\n",
              "      <td>27.610095</td>\n",
              "    </tr>\n",
              "    <tr>\n",
              "      <th>Uttarakhand</th>\n",
              "      <td>306.758923</td>\n",
              "      <td>148.978906</td>\n",
              "      <td>24.372957</td>\n",
              "      <td>26.938090</td>\n",
              "    </tr>\n",
              "    <tr>\n",
              "      <th>Uttaranchal</th>\n",
              "      <td>283.335714</td>\n",
              "      <td>121.694340</td>\n",
              "      <td>24.697736</td>\n",
              "      <td>27.163019</td>\n",
              "    </tr>\n",
              "    <tr>\n",
              "      <th>West Bengal</th>\n",
              "      <td>233.506524</td>\n",
              "      <td>115.039909</td>\n",
              "      <td>12.608766</td>\n",
              "      <td>59.075731</td>\n",
              "    </tr>\n",
              "    <tr>\n",
              "      <th>andaman-and-nicobar-islands</th>\n",
              "      <td>NaN</td>\n",
              "      <td>NaN</td>\n",
              "      <td>NaN</td>\n",
              "      <td>NaN</td>\n",
              "    </tr>\n",
              "  </tbody>\n",
              "</table>\n",
              "</div>"
            ],
            "text/plain": [
              "                                    spm        rspm        so2        no2\n",
              "state                                                                    \n",
              "Andhra Pradesh               200.260378   78.182824   7.284845  21.704451\n",
              "Arunachal Pradesh                   NaN   76.629213   3.179104   5.469697\n",
              "Assam                        153.355386   93.724912   6.723263  14.793691\n",
              "Bihar                        276.917416  123.705176  19.381476  36.575525\n",
              "Chandigarh                   206.056150   96.587079   2.676986  18.619404\n",
              "Chhattisgarh                 231.290969  126.472399  12.846609  24.815961\n",
              "Dadra & Nagar Haveli         170.545024   76.536530   8.939587  18.293959\n",
              "Daman & Diu                  145.681416   73.749431   8.192958  16.168926\n",
              "Delhi                        399.402088  196.639771   8.737273  53.489147\n",
              "Goa                           67.254193   61.212766   6.827913  12.506337\n",
              "Gujarat                      191.567930   98.244510  16.656343  24.065631\n",
              "Haryana                      268.264804  149.860537  14.064957  23.428311\n",
              "Himachal Pradesh             208.575630   91.870202   2.667013  13.658688\n",
              "Jammu & Kashmir              196.221053  117.449483   7.180521  12.213181\n",
              "Jharkhand                    277.940746  168.517763  23.485794  43.366341\n",
              "Karnataka                    168.001743   79.371801  10.223099  22.702837\n",
              "Kerala                        84.419791   50.636064   5.322350  14.421889\n",
              "Lakshadweep                         NaN         NaN        NaN        NaN\n",
              "Madhya Pradesh               210.067545  114.717967  11.587410  18.639596\n",
              "Maharashtra                  205.255823  101.479608  17.366863  32.115370\n",
              "Manipur                      158.657895   69.815789   3.900000  20.173684\n",
              "Meghalaya                     78.002445   68.988442   8.955908  10.659706\n",
              "Mizoram                       87.833333   42.716466   2.085009   6.682171\n",
              "Nagaland                     133.311449   83.357027   2.059736   8.947265\n",
              "Odisha                       167.609844   83.619824   5.275874  16.899568\n",
              "Puducherry                    95.598188   43.418217  11.970639  15.279496\n",
              "Punjab                       244.918926  173.493711  10.628598  28.085846\n",
              "Rajasthan                    300.735397  142.016832   7.665725  30.441008\n",
              "Sikkim                        75.000000   32.000000  19.800000  26.800000\n",
              "Tamil Nadu                   126.729064   66.585638  11.315134  21.601202\n",
              "Telangana                           NaN   85.043008   5.418609  23.864005\n",
              "Tripura                             NaN         NaN        NaN        NaN\n",
              "Uttar Pradesh                372.663688  176.952308  12.528500  27.610095\n",
              "Uttarakhand                  306.758923  148.978906  24.372957  26.938090\n",
              "Uttaranchal                  283.335714  121.694340  24.697736  27.163019\n",
              "West Bengal                  233.506524  115.039909  12.608766  59.075731\n",
              "andaman-and-nicobar-islands         NaN         NaN        NaN        NaN"
            ]
          },
          "metadata": {
            "tags": []
          },
          "execution_count": 241
        }
      ]
    },
    {
      "cell_type": "markdown",
      "metadata": {
        "id": "hIdRP_rW7tYs"
      },
      "source": [
        "Checking Data Distribution"
      ]
    },
    {
      "cell_type": "code",
      "metadata": {
        "colab": {
          "base_uri": "https://localhost:8080/",
          "height": 332
        },
        "id": "UAgiTYHiwzrp",
        "outputId": "fac9c0ef-2ad1-4572-ba18-4b5521b5e0d1"
      },
      "source": [
        "#data distribution of so2\r\n",
        "plt.hist(df.so2,range=(0,100)) "
      ],
      "execution_count": null,
      "outputs": [
        {
          "output_type": "execute_result",
          "data": {
            "text/plain": [
              "(array([2.54951e+05, 1.27940e+05, 3.17190e+04, 9.87300e+03, 3.38500e+03,\n",
              "        1.44100e+03, 7.93000e+02, 4.30000e+02, 4.09000e+02, 1.62000e+02]),\n",
              " array([  0.,  10.,  20.,  30.,  40.,  50.,  60.,  70.,  80.,  90., 100.]),\n",
              " <a list of 10 Patch objects>)"
            ]
          },
          "metadata": {
            "tags": []
          },
          "execution_count": 284
        },
        {
          "output_type": "display_data",
          "data": {
            "image/png": "[encoded data removed]",
            "text/plain": [
              "<Figure size 432x288 with 1 Axes>"
            ]
          },
          "metadata": {
            "tags": [],
            "needs_background": "light"
          }
        }
      ]
    },
    {
      "cell_type": "code",
      "metadata": {
        "colab": {
          "base_uri": "https://localhost:8080/",
          "height": 332
        },
        "id": "G0TAPNWxxMCx",
        "outputId": "47694bfe-2fa9-4885-feda-be178f106aef"
      },
      "source": [
        "#data distribution of no2\r\n",
        "plt.hist(df.no2,range=(0,200)) "
      ],
      "execution_count": null,
      "outputs": [
        {
          "output_type": "execute_result",
          "data": {
            "text/plain": [
              "(array([1.88664e+05, 1.80328e+05, 4.38890e+04, 1.13920e+04, 4.12600e+03,\n",
              "        1.76700e+03, 7.77000e+02, 3.04000e+02, 1.55000e+02, 9.30000e+01]),\n",
              " array([  0.,  20.,  40.,  60.,  80., 100., 120., 140., 160., 180., 200.]),\n",
              " <a list of 10 Patch objects>)"
            ]
          },
          "metadata": {
            "tags": []
          },
          "execution_count": 286
        },
        {
          "output_type": "display_data",
          "data": {
            "image/png": "[encoded data removed]",
            "text/plain": [
              "<Figure size 432x288 with 1 Axes>"
            ]
          },
          "metadata": {
            "tags": [],
            "needs_background": "light"
          }
        }
      ]
    },
    {
      "cell_type": "code",
      "metadata": {
        "colab": {
          "base_uri": "https://localhost:8080/",
          "height": 349
        },
        "id": "GgfLY9QCwXhB",
        "outputId": "d17c02a1-ef99-4fbd-ee39-703896221cb6"
      },
      "source": [
        "#data distribution of spm\r\n",
        "plt.hist(df.spm,range=(0,1500)) "
      ],
      "execution_count": null,
      "outputs": [
        {
          "output_type": "execute_result",
          "data": {
            "text/plain": [
              "(array([1.12945e+05, 2.34749e+05, 6.80050e+04, 1.15780e+04, 2.83300e+03,\n",
              "        1.00600e+03, 3.82000e+02, 9.40000e+01, 4.20000e+01, 1.30000e+01]),\n",
              " array([   0.,  150.,  300.,  450.,  600.,  750.,  900., 1050., 1200.,\n",
              "        1350., 1500.]),\n",
              " <a list of 10 Patch objects>)"
            ]
          },
          "metadata": {
            "tags": []
          },
          "execution_count": 290
        },
        {
          "output_type": "display_data",
          "data": {
            "image/png": "[encoded data removed]",
            "text/plain": [
              "<Figure size 432x288 with 1 Axes>"
            ]
          },
          "metadata": {
            "tags": [],
            "needs_background": "light"
          }
        }
      ]
    },
    {
      "cell_type": "code",
      "metadata": {
        "colab": {
          "base_uri": "https://localhost:8080/",
          "height": 332
        },
        "id": "Ps_Re30w4Y9Y",
        "outputId": "f8ee61a8-c5e5-4454-ba1d-436aea971663"
      },
      "source": [
        "#data distribution of rspm\r\n",
        "plt.hist(df.rspm,range=(0,700)) "
      ],
      "execution_count": null,
      "outputs": [
        {
          "output_type": "execute_result",
          "data": {
            "text/plain": [
              "(array([1.43219e+05, 1.73494e+05, 7.66130e+04, 2.61610e+04, 7.56400e+03,\n",
              "        2.77900e+03, 1.02300e+03, 4.42000e+02, 2.07000e+02, 7.60000e+01]),\n",
              " array([  0.,  70., 140., 210., 280., 350., 420., 490., 560., 630., 700.]),\n",
              " <a list of 10 Patch objects>)"
            ]
          },
          "metadata": {
            "tags": []
          },
          "execution_count": 291
        },
        {
          "output_type": "display_data",
          "data": {
            "image/png": "[encoded data removed]",
            "text/plain": [
              "<Figure size 432x288 with 1 Axes>"
            ]
          },
          "metadata": {
            "tags": [],
            "needs_background": "light"
          }
        }
      ]
    },
    {
      "cell_type": "markdown",
      "metadata": {
        "id": "RZMKbeQR_Wnk"
      },
      "source": [
        "CONCLUSION:- NO POTENTIAL OUTLIERS"
      ]
    },
    {
      "cell_type": "markdown",
      "metadata": {
        "id": "L3TCWqxH8Msy"
      },
      "source": [
        " ##### Fill Missing Values by Mean (group by state)"
      ]
    },
    {
      "cell_type": "code",
      "metadata": {
        "id": "xHJcpXAy_8Y7"
      },
      "source": [
        "grp_state = df.groupby('state')"
      ],
      "execution_count": null,
      "outputs": []
    },
    {
      "cell_type": "code",
      "metadata": {
        "id": "N__j0oXSAL07"
      },
      "source": [
        "def impute_mean_by_state(series):\r\n",
        "    return series.fillna(series.mean())"
      ],
      "execution_count": null,
      "outputs": []
    },
    {
      "cell_type": "code",
      "metadata": {
        "id": "29gMZAzoBd7b"
      },
      "source": [
        "#fill value with mean value group by state\r\n",
        "df['rspm']=grp_state['rspm'].transform(impute_mean_by_state)  \r\n",
        "df['so2']=grp_state['so2'].transform(impute_mean_by_state)\r\n",
        "df['no2']=grp_state['no2'].transform(impute_mean_by_state)\r\n",
        "df['spm']=grp_state['spm'].transform(impute_mean_by_state)"
      ],
      "execution_count": null,
      "outputs": []
    },
    {
      "cell_type": "code",
      "metadata": {
        "id": "9H63z_87BtFr",
        "colab": {
          "base_uri": "https://localhost:8080/",
          "height": 284
        },
        "outputId": "06b9ce64-ead0-46d4-a27f-98a8dc165f05"
      },
      "source": [
        "df.describe()"
      ],
      "execution_count": null,
      "outputs": [
        {
          "output_type": "execute_result",
          "data": {
            "text/html": [
              "<div>\n",
              "<style scoped>\n",
              "    .dataframe tbody tr th:only-of-type {\n",
              "        vertical-align: middle;\n",
              "    }\n",
              "\n",
              "    .dataframe tbody tr th {\n",
              "        vertical-align: top;\n",
              "    }\n",
              "\n",
              "    .dataframe thead th {\n",
              "        text-align: right;\n",
              "    }\n",
              "</style>\n",
              "<table border=\"1\" class=\"dataframe\">\n",
              "  <thead>\n",
              "    <tr style=\"text-align: right;\">\n",
              "      <th></th>\n",
              "      <th>so2</th>\n",
              "      <th>no2</th>\n",
              "      <th>rspm</th>\n",
              "      <th>spm</th>\n",
              "    </tr>\n",
              "  </thead>\n",
              "  <tbody>\n",
              "    <tr>\n",
              "      <th>count</th>\n",
              "      <td>435739.000000</td>\n",
              "      <td>435739.000000</td>\n",
              "      <td>435739.000000</td>\n",
              "      <td>431671.000000</td>\n",
              "    </tr>\n",
              "    <tr>\n",
              "      <th>mean</th>\n",
              "      <td>10.589141</td>\n",
              "      <td>25.663170</td>\n",
              "      <td>109.680907</td>\n",
              "      <td>215.198748</td>\n",
              "    </tr>\n",
              "    <tr>\n",
              "      <th>std</th>\n",
              "      <td>10.863679</td>\n",
              "      <td>18.271145</td>\n",
              "      <td>72.519399</td>\n",
              "      <td>117.470157</td>\n",
              "    </tr>\n",
              "    <tr>\n",
              "      <th>min</th>\n",
              "      <td>0.000000</td>\n",
              "      <td>0.000000</td>\n",
              "      <td>0.000000</td>\n",
              "      <td>0.000000</td>\n",
              "    </tr>\n",
              "    <tr>\n",
              "      <th>25%</th>\n",
              "      <td>4.800000</td>\n",
              "      <td>14.000000</td>\n",
              "      <td>59.000000</td>\n",
              "      <td>142.000000</td>\n",
              "    </tr>\n",
              "    <tr>\n",
              "      <th>50%</th>\n",
              "      <td>8.000000</td>\n",
              "      <td>21.800000</td>\n",
              "      <td>93.000000</td>\n",
              "      <td>205.255823</td>\n",
              "    </tr>\n",
              "    <tr>\n",
              "      <th>75%</th>\n",
              "      <td>13.000000</td>\n",
              "      <td>32.000000</td>\n",
              "      <td>142.016832</td>\n",
              "      <td>248.000000</td>\n",
              "    </tr>\n",
              "    <tr>\n",
              "      <th>max</th>\n",
              "      <td>909.000000</td>\n",
              "      <td>876.000000</td>\n",
              "      <td>6307.033333</td>\n",
              "      <td>3380.000000</td>\n",
              "    </tr>\n",
              "  </tbody>\n",
              "</table>\n",
              "</div>"
            ],
            "text/plain": [
              "                 so2            no2           rspm            spm\n",
              "count  435739.000000  435739.000000  435739.000000  431671.000000\n",
              "mean       10.589141      25.663170     109.680907     215.198748\n",
              "std        10.863679      18.271145      72.519399     117.470157\n",
              "min         0.000000       0.000000       0.000000       0.000000\n",
              "25%         4.800000      14.000000      59.000000     142.000000\n",
              "50%         8.000000      21.800000      93.000000     205.255823\n",
              "75%        13.000000      32.000000     142.016832     248.000000\n",
              "max       909.000000     876.000000    6307.033333    3380.000000"
            ]
          },
          "metadata": {
            "tags": []
          },
          "execution_count": 260
        }
      ]
    },
    {
      "cell_type": "code",
      "metadata": {
        "id": "qyhXEfQ8B2PG",
        "colab": {
          "base_uri": "https://localhost:8080/"
        },
        "outputId": "ded25c57-19fd-4a65-94f8-6f37a31730e5"
      },
      "source": [
        " #some null value remains since some state have one value(i.e NaN only) and no mean to replace them\r\n",
        " df.isnull().sum()"
      ],
      "execution_count": null,
      "outputs": [
        {
          "output_type": "execute_result",
          "data": {
            "text/plain": [
              "state          0\n",
              "location       3\n",
              "so2            3\n",
              "no2            3\n",
              "rspm           3\n",
              "spm         4071\n",
              "date           7\n",
              "dtype: int64"
            ]
          },
          "metadata": {
            "tags": []
          },
          "execution_count": 261
        }
      ]
    },
    {
      "cell_type": "code",
      "metadata": {
        "id": "TiLv0Elp4wfE",
        "colab": {
          "base_uri": "https://localhost:8080/",
          "height": 195
        },
        "outputId": "1e679b1a-e0ea-4a92-824c-7989efa64308"
      },
      "source": [
        "df.tail()"
      ],
      "execution_count": null,
      "outputs": [
        {
          "output_type": "execute_result",
          "data": {
            "text/html": [
              "<div>\n",
              "<style scoped>\n",
              "    .dataframe tbody tr th:only-of-type {\n",
              "        vertical-align: middle;\n",
              "    }\n",
              "\n",
              "    .dataframe tbody tr th {\n",
              "        vertical-align: top;\n",
              "    }\n",
              "\n",
              "    .dataframe thead th {\n",
              "        text-align: right;\n",
              "    }\n",
              "</style>\n",
              "<table border=\"1\" class=\"dataframe\">\n",
              "  <thead>\n",
              "    <tr style=\"text-align: right;\">\n",
              "      <th></th>\n",
              "      <th>state</th>\n",
              "      <th>location</th>\n",
              "      <th>so2</th>\n",
              "      <th>no2</th>\n",
              "      <th>rspm</th>\n",
              "      <th>spm</th>\n",
              "      <th>date</th>\n",
              "    </tr>\n",
              "  </thead>\n",
              "  <tbody>\n",
              "    <tr>\n",
              "      <th>435737</th>\n",
              "      <td>West Bengal</td>\n",
              "      <td>ULUBERIA</td>\n",
              "      <td>22.0</td>\n",
              "      <td>50.0</td>\n",
              "      <td>143.0</td>\n",
              "      <td>233.506524</td>\n",
              "      <td>12/24/2015</td>\n",
              "    </tr>\n",
              "    <tr>\n",
              "      <th>435738</th>\n",
              "      <td>West Bengal</td>\n",
              "      <td>ULUBERIA</td>\n",
              "      <td>20.0</td>\n",
              "      <td>46.0</td>\n",
              "      <td>171.0</td>\n",
              "      <td>233.506524</td>\n",
              "      <td>12/29/2015</td>\n",
              "    </tr>\n",
              "    <tr>\n",
              "      <th>435739</th>\n",
              "      <td>andaman-and-nicobar-islands</td>\n",
              "      <td>NaN</td>\n",
              "      <td>NaN</td>\n",
              "      <td>NaN</td>\n",
              "      <td>NaN</td>\n",
              "      <td>NaN</td>\n",
              "      <td>NaN</td>\n",
              "    </tr>\n",
              "    <tr>\n",
              "      <th>435740</th>\n",
              "      <td>Lakshadweep</td>\n",
              "      <td>NaN</td>\n",
              "      <td>NaN</td>\n",
              "      <td>NaN</td>\n",
              "      <td>NaN</td>\n",
              "      <td>NaN</td>\n",
              "      <td>NaN</td>\n",
              "    </tr>\n",
              "    <tr>\n",
              "      <th>435741</th>\n",
              "      <td>Tripura</td>\n",
              "      <td>NaN</td>\n",
              "      <td>NaN</td>\n",
              "      <td>NaN</td>\n",
              "      <td>NaN</td>\n",
              "      <td>NaN</td>\n",
              "      <td>NaN</td>\n",
              "    </tr>\n",
              "  </tbody>\n",
              "</table>\n",
              "</div>"
            ],
            "text/plain": [
              "                              state  location  ...         spm        date\n",
              "435737                  West Bengal  ULUBERIA  ...  233.506524  12/24/2015\n",
              "435738                  West Bengal  ULUBERIA  ...  233.506524  12/29/2015\n",
              "435739  andaman-and-nicobar-islands       NaN  ...         NaN         NaN\n",
              "435740                  Lakshadweep       NaN  ...         NaN         NaN\n",
              "435741                      Tripura       NaN  ...         NaN         NaN\n",
              "\n",
              "[5 rows x 7 columns]"
            ]
          },
          "metadata": {
            "tags": []
          },
          "execution_count": 262
        }
      ]
    },
    {
      "cell_type": "code",
      "metadata": {
        "id": "Xexnfx4J9M5S"
      },
      "source": [
        "#Remove the rows with null values in spm\r\n",
        "df=df.dropna(subset=['spm'])"
      ],
      "execution_count": null,
      "outputs": []
    },
    {
      "cell_type": "code",
      "metadata": {
        "id": "kvv7EQKP9m-V",
        "colab": {
          "base_uri": "https://localhost:8080/"
        },
        "outputId": "45a573ec-b4a8-4929-8b66-14d2a9452791"
      },
      "source": [
        "# to check all null values are removed or not\r\n",
        "df.isnull().sum() "
      ],
      "execution_count": null,
      "outputs": [
        {
          "output_type": "execute_result",
          "data": {
            "text/plain": [
              "state       0\n",
              "location    0\n",
              "so2         0\n",
              "no2         0\n",
              "rspm        0\n",
              "spm         0\n",
              "date        4\n",
              "dtype: int64"
            ]
          },
          "metadata": {
            "tags": []
          },
          "execution_count": 264
        }
      ]
    },
    {
      "cell_type": "code",
      "metadata": {
        "colab": {
          "base_uri": "https://localhost:8080/",
          "height": 195
        },
        "id": "jN4X-O9eFZ5G",
        "outputId": "750da287-4ac3-47da-8f9a-58a37e05b62c"
      },
      "source": [
        "df.tail()"
      ],
      "execution_count": null,
      "outputs": [
        {
          "output_type": "execute_result",
          "data": {
            "text/html": [
              "<div>\n",
              "<style scoped>\n",
              "    .dataframe tbody tr th:only-of-type {\n",
              "        vertical-align: middle;\n",
              "    }\n",
              "\n",
              "    .dataframe tbody tr th {\n",
              "        vertical-align: top;\n",
              "    }\n",
              "\n",
              "    .dataframe thead th {\n",
              "        text-align: right;\n",
              "    }\n",
              "</style>\n",
              "<table border=\"1\" class=\"dataframe\">\n",
              "  <thead>\n",
              "    <tr style=\"text-align: right;\">\n",
              "      <th></th>\n",
              "      <th>state</th>\n",
              "      <th>location</th>\n",
              "      <th>so2</th>\n",
              "      <th>no2</th>\n",
              "      <th>rspm</th>\n",
              "      <th>spm</th>\n",
              "      <th>date</th>\n",
              "    </tr>\n",
              "  </thead>\n",
              "  <tbody>\n",
              "    <tr>\n",
              "      <th>435734</th>\n",
              "      <td>West Bengal</td>\n",
              "      <td>ULUBERIA</td>\n",
              "      <td>20.0</td>\n",
              "      <td>44.0</td>\n",
              "      <td>148.0</td>\n",
              "      <td>233.506524</td>\n",
              "      <td>12/15/2015</td>\n",
              "    </tr>\n",
              "    <tr>\n",
              "      <th>435735</th>\n",
              "      <td>West Bengal</td>\n",
              "      <td>ULUBERIA</td>\n",
              "      <td>17.0</td>\n",
              "      <td>44.0</td>\n",
              "      <td>131.0</td>\n",
              "      <td>233.506524</td>\n",
              "      <td>12/18/2015</td>\n",
              "    </tr>\n",
              "    <tr>\n",
              "      <th>435736</th>\n",
              "      <td>West Bengal</td>\n",
              "      <td>ULUBERIA</td>\n",
              "      <td>18.0</td>\n",
              "      <td>45.0</td>\n",
              "      <td>140.0</td>\n",
              "      <td>233.506524</td>\n",
              "      <td>12/21/2015</td>\n",
              "    </tr>\n",
              "    <tr>\n",
              "      <th>435737</th>\n",
              "      <td>West Bengal</td>\n",
              "      <td>ULUBERIA</td>\n",
              "      <td>22.0</td>\n",
              "      <td>50.0</td>\n",
              "      <td>143.0</td>\n",
              "      <td>233.506524</td>\n",
              "      <td>12/24/2015</td>\n",
              "    </tr>\n",
              "    <tr>\n",
              "      <th>435738</th>\n",
              "      <td>West Bengal</td>\n",
              "      <td>ULUBERIA</td>\n",
              "      <td>20.0</td>\n",
              "      <td>46.0</td>\n",
              "      <td>171.0</td>\n",
              "      <td>233.506524</td>\n",
              "      <td>12/29/2015</td>\n",
              "    </tr>\n",
              "  </tbody>\n",
              "</table>\n",
              "</div>"
            ],
            "text/plain": [
              "              state  location   so2   no2   rspm         spm        date\n",
              "435734  West Bengal  ULUBERIA  20.0  44.0  148.0  233.506524  12/15/2015\n",
              "435735  West Bengal  ULUBERIA  17.0  44.0  131.0  233.506524  12/18/2015\n",
              "435736  West Bengal  ULUBERIA  18.0  45.0  140.0  233.506524  12/21/2015\n",
              "435737  West Bengal  ULUBERIA  22.0  50.0  143.0  233.506524  12/24/2015\n",
              "435738  West Bengal  ULUBERIA  20.0  46.0  171.0  233.506524  12/29/2015"
            ]
          },
          "metadata": {
            "tags": []
          },
          "execution_count": 265
        }
      ]
    },
    {
      "cell_type": "markdown",
      "metadata": {
        "id": "jT8T-kuILl7F"
      },
      "source": [
        "#### Data Distribution after Replacing Null value with mean"
      ]
    },
    {
      "cell_type": "code",
      "metadata": {
        "id": "BfRZOvAwLnkz",
        "colab": {
          "base_uri": "https://localhost:8080/",
          "height": 332
        },
        "outputId": "f1a8424b-a5b8-483f-9ae5-e4a2d071ebce"
      },
      "source": [
        "#so2\r\n",
        "plt.hist(df.so2,range=(0,100))"
      ],
      "execution_count": null,
      "outputs": [
        {
          "output_type": "execute_result",
          "data": {
            "text/plain": [
              "(array([2.54951e+05, 1.27940e+05, 3.17190e+04, 9.87300e+03, 3.38500e+03,\n",
              "        1.44100e+03, 7.93000e+02, 4.30000e+02, 4.09000e+02, 1.62000e+02]),\n",
              " array([  0.,  10.,  20.,  30.,  40.,  50.,  60.,  70.,  80.,  90., 100.]),\n",
              " <a list of 10 Patch objects>)"
            ]
          },
          "metadata": {
            "tags": []
          },
          "execution_count": 279
        },
        {
          "output_type": "display_data",
          "data": {
            "image/png": "[encoded data removed]",
            "text/plain": [
              "<Figure size 432x288 with 1 Axes>"
            ]
          },
          "metadata": {
            "tags": [],
            "needs_background": "light"
          }
        }
      ]
    },
    {
      "cell_type": "code",
      "metadata": {
        "id": "j_e0syFFMmHa",
        "colab": {
          "base_uri": "https://localhost:8080/",
          "height": 332
        },
        "outputId": "8526c69d-3b01-4211-d679-4350c0c20716"
      },
      "source": [
        "#no2\r\n",
        "plt.hist(df.no2,range=(0,200))"
      ],
      "execution_count": null,
      "outputs": [
        {
          "output_type": "execute_result",
          "data": {
            "text/plain": [
              "(array([1.88664e+05, 1.80328e+05, 4.38890e+04, 1.13920e+04, 4.12600e+03,\n",
              "        1.76700e+03, 7.77000e+02, 3.04000e+02, 1.55000e+02, 9.30000e+01]),\n",
              " array([  0.,  20.,  40.,  60.,  80., 100., 120., 140., 160., 180., 200.]),\n",
              " <a list of 10 Patch objects>)"
            ]
          },
          "metadata": {
            "tags": []
          },
          "execution_count": 282
        },
        {
          "output_type": "display_data",
          "data": {
            "image/png": "[encoded data removed]",
            "text/plain": [
              "<Figure size 432x288 with 1 Axes>"
            ]
          },
          "metadata": {
            "tags": [],
            "needs_background": "light"
          }
        }
      ]
    },
    {
      "cell_type": "code",
      "metadata": {
        "id": "_2ygupm4Mzdk",
        "colab": {
          "base_uri": "https://localhost:8080/",
          "height": 349
        },
        "outputId": "9db4c7ab-2f97-4cee-a8e4-3b4195b46dc0"
      },
      "source": [
        "#spm\r\n",
        "plt.hist(df.spm,range=(0,1500))"
      ],
      "execution_count": null,
      "outputs": [
        {
          "output_type": "execute_result",
          "data": {
            "text/plain": [
              "(array([1.12945e+05, 2.34749e+05, 6.80050e+04, 1.15780e+04, 2.83300e+03,\n",
              "        1.00600e+03, 3.82000e+02, 9.40000e+01, 4.20000e+01, 1.30000e+01]),\n",
              " array([   0.,  150.,  300.,  450.,  600.,  750.,  900., 1050., 1200.,\n",
              "        1350., 1500.]),\n",
              " <a list of 10 Patch objects>)"
            ]
          },
          "metadata": {
            "tags": []
          },
          "execution_count": 281
        },
        {
          "output_type": "display_data",
          "data": {
            "image/png": "[encoded data removed]",
            "text/plain": [
              "<Figure size 432x288 with 1 Axes>"
            ]
          },
          "metadata": {
            "tags": [],
            "needs_background": "light"
          }
        }
      ]
    },
    {
      "cell_type": "code",
      "metadata": {
        "id": "N-l_TMLvMGgb",
        "colab": {
          "base_uri": "https://localhost:8080/",
          "height": 332
        },
        "outputId": "034da4d1-19a8-4ac9-dea6-89c2bd97f15a"
      },
      "source": [
        "#rspm\r\n",
        "plt.hist(df.rspm,range=(0,700))"
      ],
      "execution_count": null,
      "outputs": [
        {
          "output_type": "execute_result",
          "data": {
            "text/plain": [
              "(array([1.43219e+05, 1.73494e+05, 7.66130e+04, 2.61610e+04, 7.56400e+03,\n",
              "        2.77900e+03, 1.02300e+03, 4.42000e+02, 2.07000e+02, 7.60000e+01]),\n",
              " array([  0.,  70., 140., 210., 280., 350., 420., 490., 560., 630., 700.]),\n",
              " <a list of 10 Patch objects>)"
            ]
          },
          "metadata": {
            "tags": []
          },
          "execution_count": 283
        },
        {
          "output_type": "display_data",
          "data": {
            "image/png": "[encoded data removed]",
            "text/plain": [
              "<Figure size 432x288 with 1 Axes>"
            ]
          },
          "metadata": {
            "tags": [],
            "needs_background": "light"
          }
        }
      ]
    },
    {
      "cell_type": "markdown",
      "metadata": {
        "id": "2sR2QGCFZ4Ms"
      },
      "source": [
        "### AIR QUALITY INDEX FORMULA\r\n",
        "\r\n",
        "The air quality index is a piecewise linear function of the pollutant concentration. At the boundary between AQI categories, there is a discontinuous jump of one AQI unit. To convert from concentration to AQI this equation is used$$\\begin{equation*}\r\n",
        "I = I_{low} +  \\frac{I_{high}-I_{low}}{C_{high}-C_{low}}{(C-C_{low})}\r\n",
        "\\end{equation*}$$\r\n"
      ]
    },
    {
      "cell_type": "markdown",
      "metadata": {
        "id": "kA0WOiow6CE2"
      },
      "source": [
        " Based on the measured ambient concentrations, corresponding standards and likely health impact, a sub-index is calculated for each of these pollutants.The worst sub-index reflects overall AQI.If multiple pollutants are measured at a monitoring site, then the largest or \"dominant\" AQI value is reported for the location."
      ]
    },
    {
      "cell_type": "code",
      "metadata": {
        "id": "KJOZ2Eg15_gR",
        "colab": {
          "base_uri": "https://localhost:8080/",
          "height": 296
        },
        "outputId": "63ca5294-c87e-4bc8-92b6-a80496073fea"
      },
      "source": [
        "# calculating aqi from so2, no2, spm, rspm\r\n",
        "def cal_aqi(so2,no2,rspm,spm):\r\n",
        "    aqi=0\r\n",
        "    if(so2>no2 and so2>rspm and so2>spm):\r\n",
        "     aqi=so2\r\n",
        "    if(no2>so2 and no2>rspm and no2>spm):\r\n",
        "     aqi=no2\r\n",
        "    if(rspm>so2 and rspm>no2 and rspm>spm):\r\n",
        "     aqi=rspm\r\n",
        "    if(spm>so2 and spm>no2 and spm>rspm):\r\n",
        "     aqi=spm\r\n",
        "    return aqi\r\n",
        "df['AQI']=df.apply(lambda x:cal_aqi(x['so2'],x['no2'],x['rspm'],x['spm']),axis=1)\r\n",
        "dfaq= df[['state', 'location', 'so2', 'no2', 'rspm', 'spm','AQI']]\r\n",
        "dfaq.head()"
      ],
      "execution_count": null,
      "outputs": [
        {
          "output_type": "stream",
          "text": [
            "/usr/local/lib/python3.6/dist-packages/ipykernel_launcher.py:13: SettingWithCopyWarning: \n",
            "A value is trying to be set on a copy of a slice from a DataFrame.\n",
            "Try using .loc[row_indexer,col_indexer] = value instead\n",
            "\n",
            "See the caveats in the documentation: https://pandas.pydata.org/pandas-docs/stable/user_guide/indexing.html#returning-a-view-versus-a-copy\n",
            "  del sys.path[0]\n"
          ],
          "name": "stderr"
        },
        {
          "output_type": "execute_result",
          "data": {
            "text/html": [
              "<div>\n",
              "<style scoped>\n",
              "    .dataframe tbody tr th:only-of-type {\n",
              "        vertical-align: middle;\n",
              "    }\n",
              "\n",
              "    .dataframe tbody tr th {\n",
              "        vertical-align: top;\n",
              "    }\n",
              "\n",
              "    .dataframe thead th {\n",
              "        text-align: right;\n",
              "    }\n",
              "</style>\n",
              "<table border=\"1\" class=\"dataframe\">\n",
              "  <thead>\n",
              "    <tr style=\"text-align: right;\">\n",
              "      <th></th>\n",
              "      <th>state</th>\n",
              "      <th>location</th>\n",
              "      <th>so2</th>\n",
              "      <th>no2</th>\n",
              "      <th>rspm</th>\n",
              "      <th>spm</th>\n",
              "      <th>AQI</th>\n",
              "    </tr>\n",
              "  </thead>\n",
              "  <tbody>\n",
              "    <tr>\n",
              "      <th>0</th>\n",
              "      <td>Andhra Pradesh</td>\n",
              "      <td>Hyderabad</td>\n",
              "      <td>4.8</td>\n",
              "      <td>17.4</td>\n",
              "      <td>78.182824</td>\n",
              "      <td>200.260378</td>\n",
              "      <td>200.260378</td>\n",
              "    </tr>\n",
              "    <tr>\n",
              "      <th>1</th>\n",
              "      <td>Andhra Pradesh</td>\n",
              "      <td>Hyderabad</td>\n",
              "      <td>3.1</td>\n",
              "      <td>7.0</td>\n",
              "      <td>78.182824</td>\n",
              "      <td>200.260378</td>\n",
              "      <td>200.260378</td>\n",
              "    </tr>\n",
              "    <tr>\n",
              "      <th>2</th>\n",
              "      <td>Andhra Pradesh</td>\n",
              "      <td>Hyderabad</td>\n",
              "      <td>6.2</td>\n",
              "      <td>28.5</td>\n",
              "      <td>78.182824</td>\n",
              "      <td>200.260378</td>\n",
              "      <td>200.260378</td>\n",
              "    </tr>\n",
              "    <tr>\n",
              "      <th>3</th>\n",
              "      <td>Andhra Pradesh</td>\n",
              "      <td>Hyderabad</td>\n",
              "      <td>6.3</td>\n",
              "      <td>14.7</td>\n",
              "      <td>78.182824</td>\n",
              "      <td>200.260378</td>\n",
              "      <td>200.260378</td>\n",
              "    </tr>\n",
              "    <tr>\n",
              "      <th>4</th>\n",
              "      <td>Andhra Pradesh</td>\n",
              "      <td>Hyderabad</td>\n",
              "      <td>4.7</td>\n",
              "      <td>7.5</td>\n",
              "      <td>78.182824</td>\n",
              "      <td>200.260378</td>\n",
              "      <td>200.260378</td>\n",
              "    </tr>\n",
              "  </tbody>\n",
              "</table>\n",
              "</div>"
            ],
            "text/plain": [
              "            state   location  so2   no2       rspm         spm         AQI\n",
              "0  Andhra Pradesh  Hyderabad  4.8  17.4  78.182824  200.260378  200.260378\n",
              "1  Andhra Pradesh  Hyderabad  3.1   7.0  78.182824  200.260378  200.260378\n",
              "2  Andhra Pradesh  Hyderabad  6.2  28.5  78.182824  200.260378  200.260378\n",
              "3  Andhra Pradesh  Hyderabad  6.3  14.7  78.182824  200.260378  200.260378\n",
              "4  Andhra Pradesh  Hyderabad  4.7   7.5  78.182824  200.260378  200.260378"
            ]
          },
          "metadata": {
            "tags": []
          },
          "execution_count": 198
        }
      ]
    },
    {
      "cell_type": "markdown",
      "metadata": {
        "id": "tryfQoSN8Jcf"
      },
      "source": [
        "\r\n",
        "\r\n",
        "AQI RANGE for corresponding AQI value"
      ]
    },
    {
      "cell_type": "code",
      "metadata": {
        "id": "JnxPeT_Q8SMc",
        "colab": {
          "base_uri": "https://localhost:8080/"
        },
        "outputId": "8e1d2aab-7d34-4d4c-d7a4-ee6a18f30549"
      },
      "source": [
        "def AQI_Range(x):\r\n",
        "    if x<=50:\r\n",
        "        return \"Good\"\r\n",
        "    elif x>50 and x<=100:\r\n",
        "        return \"Moderate\"\r\n",
        "    elif x>100 and x<=200:\r\n",
        "        return \"Poor\"\r\n",
        "    elif x>200 and x<=300:\r\n",
        "        return \"Unhealthy\"\r\n",
        "    elif x>300 and x<=400:\r\n",
        "        return \"Very unhealthy\"\r\n",
        "    elif x>400:\r\n",
        "        return \"Hazardous\"\r\n",
        "\r\n",
        "df['AQI_Range'] = df['AQI'] .apply(AQI_Range)"
      ],
      "execution_count": null,
      "outputs": [
        {
          "output_type": "stream",
          "text": [
            "/usr/local/lib/python3.6/dist-packages/ipykernel_launcher.py:15: SettingWithCopyWarning: \n",
            "A value is trying to be set on a copy of a slice from a DataFrame.\n",
            "Try using .loc[row_indexer,col_indexer] = value instead\n",
            "\n",
            "See the caveats in the documentation: https://pandas.pydata.org/pandas-docs/stable/user_guide/indexing.html#returning-a-view-versus-a-copy\n",
            "  from ipykernel import kernelapp as app\n"
          ],
          "name": "stderr"
        }
      ]
    },
    {
      "cell_type": "code",
      "metadata": {
        "id": "iW924I-b8f5Z",
        "colab": {
          "base_uri": "https://localhost:8080/",
          "height": 491
        },
        "outputId": "cd849980-5547-451c-9e93-aabc5806641f"
      },
      "source": [
        "df.head(15)"
      ],
      "execution_count": null,
      "outputs": [
        {
          "output_type": "execute_result",
          "data": {
            "text/html": [
              "<div>\n",
              "<style scoped>\n",
              "    .dataframe tbody tr th:only-of-type {\n",
              "        vertical-align: middle;\n",
              "    }\n",
              "\n",
              "    .dataframe tbody tr th {\n",
              "        vertical-align: top;\n",
              "    }\n",
              "\n",
              "    .dataframe thead th {\n",
              "        text-align: right;\n",
              "    }\n",
              "</style>\n",
              "<table border=\"1\" class=\"dataframe\">\n",
              "  <thead>\n",
              "    <tr style=\"text-align: right;\">\n",
              "      <th></th>\n",
              "      <th>state</th>\n",
              "      <th>location</th>\n",
              "      <th>so2</th>\n",
              "      <th>no2</th>\n",
              "      <th>rspm</th>\n",
              "      <th>spm</th>\n",
              "      <th>date</th>\n",
              "      <th>AQI</th>\n",
              "      <th>AQI_Range</th>\n",
              "    </tr>\n",
              "  </thead>\n",
              "  <tbody>\n",
              "    <tr>\n",
              "      <th>0</th>\n",
              "      <td>Andhra Pradesh</td>\n",
              "      <td>Hyderabad</td>\n",
              "      <td>4.8</td>\n",
              "      <td>17.4</td>\n",
              "      <td>78.182824</td>\n",
              "      <td>200.260378</td>\n",
              "      <td>2/1/1990</td>\n",
              "      <td>200.260378</td>\n",
              "      <td>Unhealthy</td>\n",
              "    </tr>\n",
              "    <tr>\n",
              "      <th>1</th>\n",
              "      <td>Andhra Pradesh</td>\n",
              "      <td>Hyderabad</td>\n",
              "      <td>3.1</td>\n",
              "      <td>7.0</td>\n",
              "      <td>78.182824</td>\n",
              "      <td>200.260378</td>\n",
              "      <td>2/1/1990</td>\n",
              "      <td>200.260378</td>\n",
              "      <td>Unhealthy</td>\n",
              "    </tr>\n",
              "    <tr>\n",
              "      <th>2</th>\n",
              "      <td>Andhra Pradesh</td>\n",
              "      <td>Hyderabad</td>\n",
              "      <td>6.2</td>\n",
              "      <td>28.5</td>\n",
              "      <td>78.182824</td>\n",
              "      <td>200.260378</td>\n",
              "      <td>2/1/1990</td>\n",
              "      <td>200.260378</td>\n",
              "      <td>Unhealthy</td>\n",
              "    </tr>\n",
              "    <tr>\n",
              "      <th>3</th>\n",
              "      <td>Andhra Pradesh</td>\n",
              "      <td>Hyderabad</td>\n",
              "      <td>6.3</td>\n",
              "      <td>14.7</td>\n",
              "      <td>78.182824</td>\n",
              "      <td>200.260378</td>\n",
              "      <td>3/1/1990</td>\n",
              "      <td>200.260378</td>\n",
              "      <td>Unhealthy</td>\n",
              "    </tr>\n",
              "    <tr>\n",
              "      <th>4</th>\n",
              "      <td>Andhra Pradesh</td>\n",
              "      <td>Hyderabad</td>\n",
              "      <td>4.7</td>\n",
              "      <td>7.5</td>\n",
              "      <td>78.182824</td>\n",
              "      <td>200.260378</td>\n",
              "      <td>3/1/1990</td>\n",
              "      <td>200.260378</td>\n",
              "      <td>Unhealthy</td>\n",
              "    </tr>\n",
              "    <tr>\n",
              "      <th>5</th>\n",
              "      <td>Andhra Pradesh</td>\n",
              "      <td>Hyderabad</td>\n",
              "      <td>6.4</td>\n",
              "      <td>25.7</td>\n",
              "      <td>78.182824</td>\n",
              "      <td>200.260378</td>\n",
              "      <td>3/1/1990</td>\n",
              "      <td>200.260378</td>\n",
              "      <td>Unhealthy</td>\n",
              "    </tr>\n",
              "    <tr>\n",
              "      <th>6</th>\n",
              "      <td>Andhra Pradesh</td>\n",
              "      <td>Hyderabad</td>\n",
              "      <td>5.4</td>\n",
              "      <td>17.1</td>\n",
              "      <td>78.182824</td>\n",
              "      <td>200.260378</td>\n",
              "      <td>4/1/1990</td>\n",
              "      <td>200.260378</td>\n",
              "      <td>Unhealthy</td>\n",
              "    </tr>\n",
              "    <tr>\n",
              "      <th>7</th>\n",
              "      <td>Andhra Pradesh</td>\n",
              "      <td>Hyderabad</td>\n",
              "      <td>4.7</td>\n",
              "      <td>8.7</td>\n",
              "      <td>78.182824</td>\n",
              "      <td>200.260378</td>\n",
              "      <td>4/1/1990</td>\n",
              "      <td>200.260378</td>\n",
              "      <td>Unhealthy</td>\n",
              "    </tr>\n",
              "    <tr>\n",
              "      <th>8</th>\n",
              "      <td>Andhra Pradesh</td>\n",
              "      <td>Hyderabad</td>\n",
              "      <td>4.2</td>\n",
              "      <td>23.0</td>\n",
              "      <td>78.182824</td>\n",
              "      <td>200.260378</td>\n",
              "      <td>4/1/1990</td>\n",
              "      <td>200.260378</td>\n",
              "      <td>Unhealthy</td>\n",
              "    </tr>\n",
              "    <tr>\n",
              "      <th>9</th>\n",
              "      <td>Andhra Pradesh</td>\n",
              "      <td>Hyderabad</td>\n",
              "      <td>4.0</td>\n",
              "      <td>8.9</td>\n",
              "      <td>78.182824</td>\n",
              "      <td>200.260378</td>\n",
              "      <td>5/1/1990</td>\n",
              "      <td>200.260378</td>\n",
              "      <td>Unhealthy</td>\n",
              "    </tr>\n",
              "    <tr>\n",
              "      <th>10</th>\n",
              "      <td>Andhra Pradesh</td>\n",
              "      <td>Hyderabad</td>\n",
              "      <td>3.6</td>\n",
              "      <td>18.6</td>\n",
              "      <td>78.182824</td>\n",
              "      <td>200.260378</td>\n",
              "      <td>5/1/1990</td>\n",
              "      <td>200.260378</td>\n",
              "      <td>Unhealthy</td>\n",
              "    </tr>\n",
              "    <tr>\n",
              "      <th>11</th>\n",
              "      <td>Andhra Pradesh</td>\n",
              "      <td>Hyderabad</td>\n",
              "      <td>3.9</td>\n",
              "      <td>14.1</td>\n",
              "      <td>78.182824</td>\n",
              "      <td>133.000000</td>\n",
              "      <td>6/1/1990</td>\n",
              "      <td>133.000000</td>\n",
              "      <td>Poor</td>\n",
              "    </tr>\n",
              "    <tr>\n",
              "      <th>12</th>\n",
              "      <td>Andhra Pradesh</td>\n",
              "      <td>Hyderabad</td>\n",
              "      <td>5.6</td>\n",
              "      <td>11.8</td>\n",
              "      <td>78.182824</td>\n",
              "      <td>82.000000</td>\n",
              "      <td>6/1/1990</td>\n",
              "      <td>82.000000</td>\n",
              "      <td>Moderate</td>\n",
              "    </tr>\n",
              "    <tr>\n",
              "      <th>13</th>\n",
              "      <td>Andhra Pradesh</td>\n",
              "      <td>Hyderabad</td>\n",
              "      <td>3.3</td>\n",
              "      <td>19.3</td>\n",
              "      <td>78.182824</td>\n",
              "      <td>111.000000</td>\n",
              "      <td>6/1/1990</td>\n",
              "      <td>111.000000</td>\n",
              "      <td>Poor</td>\n",
              "    </tr>\n",
              "    <tr>\n",
              "      <th>14</th>\n",
              "      <td>Andhra Pradesh</td>\n",
              "      <td>Hyderabad</td>\n",
              "      <td>3.9</td>\n",
              "      <td>8.2</td>\n",
              "      <td>78.182824</td>\n",
              "      <td>118.000000</td>\n",
              "      <td>7/1/1990</td>\n",
              "      <td>118.000000</td>\n",
              "      <td>Poor</td>\n",
              "    </tr>\n",
              "  </tbody>\n",
              "</table>\n",
              "</div>"
            ],
            "text/plain": [
              "             state   location  so2  ...      date         AQI  AQI_Range\n",
              "0   Andhra Pradesh  Hyderabad  4.8  ...  2/1/1990  200.260378  Unhealthy\n",
              "1   Andhra Pradesh  Hyderabad  3.1  ...  2/1/1990  200.260378  Unhealthy\n",
              "2   Andhra Pradesh  Hyderabad  6.2  ...  2/1/1990  200.260378  Unhealthy\n",
              "3   Andhra Pradesh  Hyderabad  6.3  ...  3/1/1990  200.260378  Unhealthy\n",
              "4   Andhra Pradesh  Hyderabad  4.7  ...  3/1/1990  200.260378  Unhealthy\n",
              "5   Andhra Pradesh  Hyderabad  6.4  ...  3/1/1990  200.260378  Unhealthy\n",
              "6   Andhra Pradesh  Hyderabad  5.4  ...  4/1/1990  200.260378  Unhealthy\n",
              "7   Andhra Pradesh  Hyderabad  4.7  ...  4/1/1990  200.260378  Unhealthy\n",
              "8   Andhra Pradesh  Hyderabad  4.2  ...  4/1/1990  200.260378  Unhealthy\n",
              "9   Andhra Pradesh  Hyderabad  4.0  ...  5/1/1990  200.260378  Unhealthy\n",
              "10  Andhra Pradesh  Hyderabad  3.6  ...  5/1/1990  200.260378  Unhealthy\n",
              "11  Andhra Pradesh  Hyderabad  3.9  ...  6/1/1990  133.000000       Poor\n",
              "12  Andhra Pradesh  Hyderabad  5.6  ...  6/1/1990   82.000000   Moderate\n",
              "13  Andhra Pradesh  Hyderabad  3.3  ...  6/1/1990  111.000000       Poor\n",
              "14  Andhra Pradesh  Hyderabad  3.9  ...  7/1/1990  118.000000       Poor\n",
              "\n",
              "[15 rows x 9 columns]"
            ]
          },
          "metadata": {
            "tags": []
          },
          "execution_count": 121
        }
      ]
    },
    {
      "cell_type": "code",
      "metadata": {
        "id": "91IGKOrD6NHc",
        "colab": {
          "base_uri": "https://localhost:8080/",
          "height": 195
        },
        "outputId": "b1be5c3d-d9ee-4499-a9bf-51cf0454c77a"
      },
      "source": [
        "df.tail(5)"
      ],
      "execution_count": null,
      "outputs": [
        {
          "output_type": "execute_result",
          "data": {
            "text/html": [
              "<div>\n",
              "<style scoped>\n",
              "    .dataframe tbody tr th:only-of-type {\n",
              "        vertical-align: middle;\n",
              "    }\n",
              "\n",
              "    .dataframe tbody tr th {\n",
              "        vertical-align: top;\n",
              "    }\n",
              "\n",
              "    .dataframe thead th {\n",
              "        text-align: right;\n",
              "    }\n",
              "</style>\n",
              "<table border=\"1\" class=\"dataframe\">\n",
              "  <thead>\n",
              "    <tr style=\"text-align: right;\">\n",
              "      <th></th>\n",
              "      <th>state</th>\n",
              "      <th>location</th>\n",
              "      <th>so2</th>\n",
              "      <th>no2</th>\n",
              "      <th>rspm</th>\n",
              "      <th>spm</th>\n",
              "      <th>date</th>\n",
              "      <th>AQI</th>\n",
              "      <th>AQI_Range</th>\n",
              "    </tr>\n",
              "  </thead>\n",
              "  <tbody>\n",
              "    <tr>\n",
              "      <th>435734</th>\n",
              "      <td>West Bengal</td>\n",
              "      <td>ULUBERIA</td>\n",
              "      <td>20.0</td>\n",
              "      <td>44.0</td>\n",
              "      <td>148.0</td>\n",
              "      <td>233.506524</td>\n",
              "      <td>12/15/2015</td>\n",
              "      <td>233.506524</td>\n",
              "      <td>Unhealthy</td>\n",
              "    </tr>\n",
              "    <tr>\n",
              "      <th>435735</th>\n",
              "      <td>West Bengal</td>\n",
              "      <td>ULUBERIA</td>\n",
              "      <td>17.0</td>\n",
              "      <td>44.0</td>\n",
              "      <td>131.0</td>\n",
              "      <td>233.506524</td>\n",
              "      <td>12/18/2015</td>\n",
              "      <td>233.506524</td>\n",
              "      <td>Unhealthy</td>\n",
              "    </tr>\n",
              "    <tr>\n",
              "      <th>435736</th>\n",
              "      <td>West Bengal</td>\n",
              "      <td>ULUBERIA</td>\n",
              "      <td>18.0</td>\n",
              "      <td>45.0</td>\n",
              "      <td>140.0</td>\n",
              "      <td>233.506524</td>\n",
              "      <td>12/21/2015</td>\n",
              "      <td>233.506524</td>\n",
              "      <td>Unhealthy</td>\n",
              "    </tr>\n",
              "    <tr>\n",
              "      <th>435737</th>\n",
              "      <td>West Bengal</td>\n",
              "      <td>ULUBERIA</td>\n",
              "      <td>22.0</td>\n",
              "      <td>50.0</td>\n",
              "      <td>143.0</td>\n",
              "      <td>233.506524</td>\n",
              "      <td>12/24/2015</td>\n",
              "      <td>233.506524</td>\n",
              "      <td>Unhealthy</td>\n",
              "    </tr>\n",
              "    <tr>\n",
              "      <th>435738</th>\n",
              "      <td>West Bengal</td>\n",
              "      <td>ULUBERIA</td>\n",
              "      <td>20.0</td>\n",
              "      <td>46.0</td>\n",
              "      <td>171.0</td>\n",
              "      <td>233.506524</td>\n",
              "      <td>12/29/2015</td>\n",
              "      <td>233.506524</td>\n",
              "      <td>Unhealthy</td>\n",
              "    </tr>\n",
              "  </tbody>\n",
              "</table>\n",
              "</div>"
            ],
            "text/plain": [
              "              state  location   so2  ...        date         AQI  AQI_Range\n",
              "435734  West Bengal  ULUBERIA  20.0  ...  12/15/2015  233.506524  Unhealthy\n",
              "435735  West Bengal  ULUBERIA  17.0  ...  12/18/2015  233.506524  Unhealthy\n",
              "435736  West Bengal  ULUBERIA  18.0  ...  12/21/2015  233.506524  Unhealthy\n",
              "435737  West Bengal  ULUBERIA  22.0  ...  12/24/2015  233.506524  Unhealthy\n",
              "435738  West Bengal  ULUBERIA  20.0  ...  12/29/2015  233.506524  Unhealthy\n",
              "\n",
              "[5 rows x 9 columns]"
            ]
          },
          "metadata": {
            "tags": []
          },
          "execution_count": 122
        }
      ]
    },
    {
      "cell_type": "markdown",
      "metadata": {
        "id": "GJVP26dWPGqh"
      },
      "source": [
        "\r\n",
        "## Build Model - Using Random Forest Classifier\r\n"
      ]
    },
    {
      "cell_type": "code",
      "metadata": {
        "id": "AGFPUhhROb3_"
      },
      "source": [
        "from sklearn.ensemble import RandomForestClassifier\r\n",
        "from sklearn.model_selection import train_test_split"
      ],
      "execution_count": null,
      "outputs": []
    },
    {
      "cell_type": "code",
      "metadata": {
        "id": "m5ep0ituGKp7",
        "colab": {
          "base_uri": "https://localhost:8080/"
        },
        "outputId": "a106409e-bcdb-4ae9-e7e8-d0f736ba1e98"
      },
      "source": [
        "X1 = df[['so2','no2','rspm','spm']]\r\n",
        "print(X1)\r\n",
        "\r\n",
        "y1 = df['AQI_Range']\r\n",
        "print(y1)"
      ],
      "execution_count": null,
      "outputs": [
        {
          "output_type": "stream",
          "text": [
            "         so2   no2        rspm         spm\n",
            "0        4.8  17.4   78.182824  200.260378\n",
            "1        3.1   7.0   78.182824  200.260378\n",
            "2        6.2  28.5   78.182824  200.260378\n",
            "3        6.3  14.7   78.182824  200.260378\n",
            "4        4.7   7.5   78.182824  200.260378\n",
            "...      ...   ...         ...         ...\n",
            "435734  20.0  44.0  148.000000  233.506524\n",
            "435735  17.0  44.0  131.000000  233.506524\n",
            "435736  18.0  45.0  140.000000  233.506524\n",
            "435737  22.0  50.0  143.000000  233.506524\n",
            "435738  20.0  46.0  171.000000  233.506524\n",
            "\n",
            "[431671 rows x 4 columns]\n",
            "0         Unhealthy\n",
            "1         Unhealthy\n",
            "2         Unhealthy\n",
            "3         Unhealthy\n",
            "4         Unhealthy\n",
            "            ...    \n",
            "435734    Unhealthy\n",
            "435735    Unhealthy\n",
            "435736    Unhealthy\n",
            "435737    Unhealthy\n",
            "435738    Unhealthy\n",
            "Name: AQI_Range, Length: 431671, dtype: object\n"
          ],
          "name": "stdout"
        }
      ]
    },
    {
      "cell_type": "code",
      "metadata": {
        "id": "9uKgztOw-jV4"
      },
      "source": [
        "X_train1, X_test1, y_train1, y_test1 = train_test_split(X1, y1, test_size=0.33, random_state=42)"
      ],
      "execution_count": null,
      "outputs": []
    },
    {
      "cell_type": "code",
      "metadata": {
        "colab": {
          "base_uri": "https://localhost:8080/"
        },
        "id": "QmiyLzMk-rwr",
        "outputId": "e58e4133-0f69-4fb6-d774-bdd503e1a7e7"
      },
      "source": [
        "model = RandomForestClassifier(n_estimators=10)\r\n",
        "model.fit(X_train1,y_train1)"
      ],
      "execution_count": null,
      "outputs": [
        {
          "output_type": "execute_result",
          "data": {
            "text/plain": [
              "RandomForestClassifier(bootstrap=True, ccp_alpha=0.0, class_weight=None,\n",
              "                       criterion='gini', max_depth=None, max_features='auto',\n",
              "                       max_leaf_nodes=None, max_samples=None,\n",
              "                       min_impurity_decrease=0.0, min_impurity_split=None,\n",
              "                       min_samples_leaf=1, min_samples_split=2,\n",
              "                       min_weight_fraction_leaf=0.0, n_estimators=10,\n",
              "                       n_jobs=None, oob_score=False, random_state=None,\n",
              "                       verbose=0, warm_start=False)"
            ]
          },
          "metadata": {
            "tags": []
          },
          "execution_count": 203
        }
      ]
    },
    {
      "cell_type": "code",
      "metadata": {
        "id": "MCClKtXPPbD0",
        "colab": {
          "base_uri": "https://localhost:8080/",
          "height": 195
        },
        "outputId": "aa4186f3-6b71-4fc8-9c2a-f01afb16531f"
      },
      "source": [
        "X_train1.head()"
      ],
      "execution_count": null,
      "outputs": [
        {
          "output_type": "execute_result",
          "data": {
            "text/html": [
              "<div>\n",
              "<style scoped>\n",
              "    .dataframe tbody tr th:only-of-type {\n",
              "        vertical-align: middle;\n",
              "    }\n",
              "\n",
              "    .dataframe tbody tr th {\n",
              "        vertical-align: top;\n",
              "    }\n",
              "\n",
              "    .dataframe thead th {\n",
              "        text-align: right;\n",
              "    }\n",
              "</style>\n",
              "<table border=\"1\" class=\"dataframe\">\n",
              "  <thead>\n",
              "    <tr style=\"text-align: right;\">\n",
              "      <th></th>\n",
              "      <th>so2</th>\n",
              "      <th>no2</th>\n",
              "      <th>rspm</th>\n",
              "      <th>spm</th>\n",
              "    </tr>\n",
              "  </thead>\n",
              "  <tbody>\n",
              "    <tr>\n",
              "      <th>313797</th>\n",
              "      <td>11.00</td>\n",
              "      <td>27.00</td>\n",
              "      <td>140.000000</td>\n",
              "      <td>244.918926</td>\n",
              "    </tr>\n",
              "    <tr>\n",
              "      <th>413899</th>\n",
              "      <td>31.20</td>\n",
              "      <td>49.30</td>\n",
              "      <td>115.039909</td>\n",
              "      <td>106.000000</td>\n",
              "    </tr>\n",
              "    <tr>\n",
              "      <th>32796</th>\n",
              "      <td>5.00</td>\n",
              "      <td>9.00</td>\n",
              "      <td>30.000000</td>\n",
              "      <td>153.355386</td>\n",
              "    </tr>\n",
              "    <tr>\n",
              "      <th>142440</th>\n",
              "      <td>4.50</td>\n",
              "      <td>24.10</td>\n",
              "      <td>52.000000</td>\n",
              "      <td>176.000000</td>\n",
              "    </tr>\n",
              "    <tr>\n",
              "      <th>388697</th>\n",
              "      <td>26.75</td>\n",
              "      <td>34.25</td>\n",
              "      <td>189.000000</td>\n",
              "      <td>395.000000</td>\n",
              "    </tr>\n",
              "  </tbody>\n",
              "</table>\n",
              "</div>"
            ],
            "text/plain": [
              "          so2    no2        rspm         spm\n",
              "313797  11.00  27.00  140.000000  244.918926\n",
              "413899  31.20  49.30  115.039909  106.000000\n",
              "32796    5.00   9.00   30.000000  153.355386\n",
              "142440   4.50  24.10   52.000000  176.000000\n",
              "388697  26.75  34.25  189.000000  395.000000"
            ]
          },
          "metadata": {
            "tags": []
          },
          "execution_count": 204
        }
      ]
    },
    {
      "cell_type": "code",
      "metadata": {
        "id": "DHZwsschFoX6",
        "colab": {
          "base_uri": "https://localhost:8080/"
        },
        "outputId": "40d6b8fe-0994-4b5d-e2a8-2f42541cc016"
      },
      "source": [
        "y_train1.head()"
      ],
      "execution_count": null,
      "outputs": [
        {
          "output_type": "execute_result",
          "data": {
            "text/plain": [
              "313797         Unhealthy\n",
              "413899              Poor\n",
              "32796               Poor\n",
              "142440              Poor\n",
              "388697    Very unhealthy\n",
              "Name: AQI_Range, dtype: object"
            ]
          },
          "metadata": {
            "tags": []
          },
          "execution_count": 205
        }
      ]
    },
    {
      "cell_type": "code",
      "metadata": {
        "id": "-q2qrGiFONQj",
        "colab": {
          "base_uri": "https://localhost:8080/"
        },
        "outputId": "180d6bcb-5b9e-4ab9-9c34-355d248491a7"
      },
      "source": [
        "model.score(X_test1,y_test1) #high accuracy score of 99.97 %\r\n"
      ],
      "execution_count": null,
      "outputs": [
        {
          "output_type": "execute_result",
          "data": {
            "text/plain": [
              "0.9997964226546486"
            ]
          },
          "metadata": {
            "tags": []
          },
          "execution_count": 206
        }
      ]
    },
    {
      "cell_type": "code",
      "metadata": {
        "id": "UQTceZf3PbUS",
        "colab": {
          "base_uri": "https://localhost:8080/"
        },
        "outputId": "f9306969-bd30-4d3c-c6f8-fc790629b4fe"
      },
      "source": [
        "model.predict([[2.059,8.94,102,256]]) #correct"
      ],
      "execution_count": null,
      "outputs": [
        {
          "output_type": "execute_result",
          "data": {
            "text/plain": [
              "array(['Unhealthy'], dtype=object)"
            ]
          },
          "metadata": {
            "tags": []
          },
          "execution_count": 207
        }
      ]
    },
    {
      "cell_type": "code",
      "metadata": {
        "id": "pZC7e9A6NQ9n",
        "colab": {
          "base_uri": "https://localhost:8080/"
        },
        "outputId": "1be1a04a-0ea6-4f7c-bbf6-20c21c521731"
      },
      "source": [
        "model.predict([[100,182.2,78.182,400]]) #correct"
      ],
      "execution_count": null,
      "outputs": [
        {
          "output_type": "execute_result",
          "data": {
            "text/plain": [
              "array(['Very unhealthy'], dtype=object)"
            ]
          },
          "metadata": {
            "tags": []
          },
          "execution_count": 208
        }
      ]
    },
    {
      "cell_type": "code",
      "metadata": {
        "id": "0jE06pcZMseH",
        "colab": {
          "base_uri": "https://localhost:8080/"
        },
        "outputId": "2ef782e7-5874-4971-92a0-238e6482776e"
      },
      "source": [
        "model.predict([[32.7,35,78.182,203]]) #correct\r\n"
      ],
      "execution_count": null,
      "outputs": [
        {
          "output_type": "execute_result",
          "data": {
            "text/plain": [
              "array(['Unhealthy'], dtype=object)"
            ]
          },
          "metadata": {
            "tags": []
          },
          "execution_count": 209
        }
      ]
    },
    {
      "cell_type": "markdown",
      "metadata": {
        "id": "NBm74kTgP4Ln"
      },
      "source": [
        "## Build Model - Using Decision Tree Classifier\r\n"
      ]
    },
    {
      "cell_type": "code",
      "metadata": {
        "id": "WgTSudSnPbl4"
      },
      "source": [
        "from sklearn import tree"
      ],
      "execution_count": null,
      "outputs": []
    },
    {
      "cell_type": "code",
      "metadata": {
        "id": "BqvDQtBgPcD8"
      },
      "source": [
        "model2 = tree.DecisionTreeClassifier()"
      ],
      "execution_count": null,
      "outputs": []
    },
    {
      "cell_type": "code",
      "metadata": {
        "id": "vICog2s4QX1V",
        "colab": {
          "base_uri": "https://localhost:8080/"
        },
        "outputId": "4e7c0162-9ac7-44a7-d62d-74ae24391c8e"
      },
      "source": [
        "model2.fit(X_train1,y_train1)\r\n",
        "            "
      ],
      "execution_count": null,
      "outputs": [
        {
          "output_type": "execute_result",
          "data": {
            "text/plain": [
              "DecisionTreeClassifier(ccp_alpha=0.0, class_weight=None, criterion='gini',\n",
              "                       max_depth=None, max_features=None, max_leaf_nodes=None,\n",
              "                       min_impurity_decrease=0.0, min_impurity_split=None,\n",
              "                       min_samples_leaf=1, min_samples_split=2,\n",
              "                       min_weight_fraction_leaf=0.0, presort='deprecated',\n",
              "                       random_state=None, splitter='best')"
            ]
          },
          "metadata": {
            "tags": []
          },
          "execution_count": 212
        }
      ]
    },
    {
      "cell_type": "code",
      "metadata": {
        "id": "gomGuL6cQX-6",
        "colab": {
          "base_uri": "https://localhost:8080/"
        },
        "outputId": "a5cc03bd-3101-436c-d93a-69ea6e05c528"
      },
      "source": [
        "model2.score(X_test1,y_test1) #high accuracy score of 99.98%"
      ],
      "execution_count": null,
      "outputs": [
        {
          "output_type": "execute_result",
          "data": {
            "text/plain": [
              "0.9997753629292674"
            ]
          },
          "metadata": {
            "tags": []
          },
          "execution_count": 213
        }
      ]
    },
    {
      "cell_type": "code",
      "metadata": {
        "id": "vOLnPBBZQszy",
        "colab": {
          "base_uri": "https://localhost:8080/"
        },
        "outputId": "70a01f7e-4862-499c-8229-a4053d2285b6"
      },
      "source": [
        "#Some predictions\r\n",
        "model2.predict([[9,31,51,205.25]]) # correct"
      ],
      "execution_count": null,
      "outputs": [
        {
          "output_type": "execute_result",
          "data": {
            "text/plain": [
              "array(['Unhealthy'], dtype=object)"
            ]
          },
          "metadata": {
            "tags": []
          },
          "execution_count": 214
        }
      ]
    },
    {
      "cell_type": "code",
      "metadata": {
        "id": "WI_bKSEFQtBt",
        "colab": {
          "base_uri": "https://localhost:8080/"
        },
        "outputId": "b163559a-b34a-42c0-86c5-44bbeb724514"
      },
      "source": [
        "model2.predict([[2,5.8,17,36]]) # correct"
      ],
      "execution_count": null,
      "outputs": [
        {
          "output_type": "execute_result",
          "data": {
            "text/plain": [
              "array(['Good'], dtype=object)"
            ]
          },
          "metadata": {
            "tags": []
          },
          "execution_count": 215
        }
      ]
    },
    {
      "cell_type": "code",
      "metadata": {
        "id": "YPcvlzAGQtJD",
        "colab": {
          "base_uri": "https://localhost:8080/"
        },
        "outputId": "625e431e-3913-4d68-c251-0e79d33a8dde"
      },
      "source": [
        "model2.predict([[6,11,109,84.41]]) # correct"
      ],
      "execution_count": null,
      "outputs": [
        {
          "output_type": "execute_result",
          "data": {
            "text/plain": [
              "array(['Poor'], dtype=object)"
            ]
          },
          "metadata": {
            "tags": []
          },
          "execution_count": 216
        }
      ]
    },
    {
      "cell_type": "code",
      "metadata": {
        "id": "mgd5HScQQtNV",
        "colab": {
          "base_uri": "https://localhost:8080/"
        },
        "outputId": "70ce31d7-e8ef-43d1-8248-5edfdb366317"
      },
      "source": [
        "model2.predict([[10,16,156,372.66]]) # correct"
      ],
      "execution_count": null,
      "outputs": [
        {
          "output_type": "execute_result",
          "data": {
            "text/plain": [
              "array(['Very unhealthy'], dtype=object)"
            ]
          },
          "metadata": {
            "tags": []
          },
          "execution_count": 217
        }
      ]
    },
    {
      "cell_type": "markdown",
      "metadata": {
        "id": "aT748Zv_Rczd"
      },
      "source": [
        "#### Conclusion\r\n",
        "\r\n",
        "1. AQI is highly correlated with all the independent variables(so2, no2, rspm, spm)\r\n",
        "\r\n",
        "2. AQI has been increasing over the years."
      ]
    },
    {
      "cell_type": "markdown",
      "metadata": {
        "id": "KGV-GAipMUKI"
      },
      "source": [
        "## Saving model using pickle\r\n"
      ]
    },
    {
      "cell_type": "code",
      "metadata": {
        "id": "PH4aRMVtGIqA"
      },
      "source": [
        "# saving the model on Hard disk\r\n",
        "import pickle\r\n",
        "\r\n",
        "pickle.dump(model2, open('DTModel.pkl', 'wb') , protocol=2)\r\n",
        "\r\n",
        "#pickle.dump(model, open('RFmodel.pkl', 'wb') , protocol=2)"
      ],
      "execution_count": null,
      "outputs": []
    },
    {
      "cell_type": "code",
      "metadata": {
        "colab": {
          "base_uri": "https://localhost:8080/"
        },
        "id": "mznlWou5G3hK",
        "outputId": "29c735fa-f5a2-41bb-d52c-60e6f827f6b1"
      },
      "source": [
        "#using the model saved from hard disk \r\n",
        "import pickle \r\n",
        "# load the model from disk\r\n",
        "filename = 'DTModel.pkl'\r\n",
        "loaded_model = pickle.load(open(filename, 'rb'))\r\n",
        "P =[[9,31,51,205.25]]\r\n",
        "print(loaded_model.predict(P))\r\n",
        "P2 =[[2,5.8,17,36]]\r\n",
        "print(loaded_model.predict(P2))\r\n",
        "P3 = [[90.3,85.2,34.7,45.8]]\r\n",
        "print(loaded_model.predict(P3))"
      ],
      "execution_count": null,
      "outputs": [
        {
          "output_type": "stream",
          "text": [
            "['Unhealthy']\n",
            "['Good']\n",
            "['Moderate']\n"
          ],
          "name": "stdout"
        }
      ]
    }
  ]
}